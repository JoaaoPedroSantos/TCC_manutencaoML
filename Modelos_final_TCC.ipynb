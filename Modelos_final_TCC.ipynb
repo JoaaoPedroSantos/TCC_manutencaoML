{
  "nbformat": 4,
  "nbformat_minor": 0,
  "metadata": {
    "colab": {
      "provenance": [],
      "toc_visible": true
    },
    "kernelspec": {
      "name": "python3",
      "display_name": "Python 3"
    },
    "language_info": {
      "name": "python"
    }
  },
  "cells": [
    {
      "cell_type": "markdown",
      "source": [
        "#Modelos utilizados no TCC de João Pedro Santos :\n",
        "\n",
        "\n",
        "Manutenção Preditiva de Máquinas Elétricas Utilizando Análise de Dados e Aprendizagem de Máquina"
      ],
      "metadata": {
        "id": "0DuzbqY7Y8AA"
      }
    },
    {
      "cell_type": "code",
      "source": [
        "! pip install xgboost # modelo\n",
        "! pip install scikit-optimize #ajuste de hiperparametros"
      ],
      "metadata": {
        "colab": {
          "base_uri": "https://localhost:8080/"
        },
        "id": "v3mzvOcyY5zo",
        "outputId": "0b11fb67-aca6-45c4-cb3f-8678118441b5"
      },
      "execution_count": 1,
      "outputs": [
        {
          "output_type": "stream",
          "name": "stdout",
          "text": [
            "Looking in indexes: https://pypi.org/simple, https://us-python.pkg.dev/colab-wheels/public/simple/\n",
            "Requirement already satisfied: xgboost in /usr/local/lib/python3.10/dist-packages (1.7.6)\n",
            "Requirement already satisfied: numpy in /usr/local/lib/python3.10/dist-packages (from xgboost) (1.22.4)\n",
            "Requirement already satisfied: scipy in /usr/local/lib/python3.10/dist-packages (from xgboost) (1.10.1)\n",
            "Looking in indexes: https://pypi.org/simple, https://us-python.pkg.dev/colab-wheels/public/simple/\n",
            "Collecting scikit-optimize\n",
            "  Downloading scikit_optimize-0.9.0-py2.py3-none-any.whl (100 kB)\n",
            "\u001b[2K     \u001b[90m━━━━━━━━━━━━━━━━━━━━━━━━━━━━━━━━━━━━━━━\u001b[0m \u001b[32m100.3/100.3 kB\u001b[0m \u001b[31m7.2 MB/s\u001b[0m eta \u001b[36m0:00:00\u001b[0m\n",
            "\u001b[?25hRequirement already satisfied: joblib>=0.11 in /usr/local/lib/python3.10/dist-packages (from scikit-optimize) (1.2.0)\n",
            "Collecting pyaml>=16.9 (from scikit-optimize)\n",
            "  Downloading pyaml-23.5.9-py3-none-any.whl (17 kB)\n",
            "Requirement already satisfied: numpy>=1.13.3 in /usr/local/lib/python3.10/dist-packages (from scikit-optimize) (1.22.4)\n",
            "Requirement already satisfied: scipy>=0.19.1 in /usr/local/lib/python3.10/dist-packages (from scikit-optimize) (1.10.1)\n",
            "Requirement already satisfied: scikit-learn>=0.20.0 in /usr/local/lib/python3.10/dist-packages (from scikit-optimize) (1.2.2)\n",
            "Requirement already satisfied: PyYAML in /usr/local/lib/python3.10/dist-packages (from pyaml>=16.9->scikit-optimize) (6.0)\n",
            "Requirement already satisfied: threadpoolctl>=2.0.0 in /usr/local/lib/python3.10/dist-packages (from scikit-learn>=0.20.0->scikit-optimize) (3.1.0)\n",
            "Installing collected packages: pyaml, scikit-optimize\n",
            "Successfully installed pyaml-23.5.9 scikit-optimize-0.9.0\n"
          ]
        }
      ]
    },
    {
      "cell_type": "code",
      "execution_count": 2,
      "metadata": {
        "id": "yFFuNLn5niQ_"
      },
      "outputs": [],
      "source": [
        "import pandas as pd\n",
        "import numpy as np\n",
        "\n",
        "import warnings\n",
        "warnings.filterwarnings(\"ignore\")\n",
        "\n",
        "import matplotlib\n",
        "import seaborn as sns\n",
        "\n",
        "matplotlib.rcParams['font.size'] = 14\n",
        "matplotlib.rcParams['figure.figsize'] = (12, 4)\n",
        "matplotlib.rcParams['figure.facecolor'] = '#00000000'\n",
        "sns.set_style(\"darkgrid\")\n",
        "\n",
        "import matplotlib.pyplot as plt"
      ]
    },
    {
      "cell_type": "code",
      "source": [
        "df = pd.read_csv(\"/content/drive/MyDrive/dados TCC/ai4i2020.csv\")"
      ],
      "metadata": {
        "id": "PYWu4KLLEIkx"
      },
      "execution_count": 3,
      "outputs": []
    },
    {
      "cell_type": "code",
      "source": [
        "df.head()"
      ],
      "metadata": {
        "colab": {
          "base_uri": "https://localhost:8080/",
          "height": 250
        },
        "id": "BqsUICNXELPJ",
        "outputId": "965d0006-5b9f-41ba-a5e3-b4623ce05c6f"
      },
      "execution_count": 4,
      "outputs": [
        {
          "output_type": "execute_result",
          "data": {
            "text/plain": [
              "   UDI Product ID Type  Air temperature [K]  Process temperature [K]  \\\n",
              "0    1     M14860    M                298.1                    308.6   \n",
              "1    2     L47181    L                298.2                    308.7   \n",
              "2    3     L47182    L                298.1                    308.5   \n",
              "3    4     L47183    L                298.2                    308.6   \n",
              "4    5     L47184    L                298.2                    308.7   \n",
              "\n",
              "   Rotational speed [rpm]  Torque [Nm]  Tool wear [min]  Machine failure  TWF  \\\n",
              "0                    1551         42.8                0                0    0   \n",
              "1                    1408         46.3                3                0    0   \n",
              "2                    1498         49.4                5                0    0   \n",
              "3                    1433         39.5                7                0    0   \n",
              "4                    1408         40.0                9                0    0   \n",
              "\n",
              "   HDF  PWF  OSF  RNF  \n",
              "0    0    0    0    0  \n",
              "1    0    0    0    0  \n",
              "2    0    0    0    0  \n",
              "3    0    0    0    0  \n",
              "4    0    0    0    0  "
            ],
            "text/html": [
              "\n",
              "  <div id=\"df-172b7366-b010-49d7-a0fc-f2a6283f4569\">\n",
              "    <div class=\"colab-df-container\">\n",
              "      <div>\n",
              "<style scoped>\n",
              "    .dataframe tbody tr th:only-of-type {\n",
              "        vertical-align: middle;\n",
              "    }\n",
              "\n",
              "    .dataframe tbody tr th {\n",
              "        vertical-align: top;\n",
              "    }\n",
              "\n",
              "    .dataframe thead th {\n",
              "        text-align: right;\n",
              "    }\n",
              "</style>\n",
              "<table border=\"1\" class=\"dataframe\">\n",
              "  <thead>\n",
              "    <tr style=\"text-align: right;\">\n",
              "      <th></th>\n",
              "      <th>UDI</th>\n",
              "      <th>Product ID</th>\n",
              "      <th>Type</th>\n",
              "      <th>Air temperature [K]</th>\n",
              "      <th>Process temperature [K]</th>\n",
              "      <th>Rotational speed [rpm]</th>\n",
              "      <th>Torque [Nm]</th>\n",
              "      <th>Tool wear [min]</th>\n",
              "      <th>Machine failure</th>\n",
              "      <th>TWF</th>\n",
              "      <th>HDF</th>\n",
              "      <th>PWF</th>\n",
              "      <th>OSF</th>\n",
              "      <th>RNF</th>\n",
              "    </tr>\n",
              "  </thead>\n",
              "  <tbody>\n",
              "    <tr>\n",
              "      <th>0</th>\n",
              "      <td>1</td>\n",
              "      <td>M14860</td>\n",
              "      <td>M</td>\n",
              "      <td>298.1</td>\n",
              "      <td>308.6</td>\n",
              "      <td>1551</td>\n",
              "      <td>42.8</td>\n",
              "      <td>0</td>\n",
              "      <td>0</td>\n",
              "      <td>0</td>\n",
              "      <td>0</td>\n",
              "      <td>0</td>\n",
              "      <td>0</td>\n",
              "      <td>0</td>\n",
              "    </tr>\n",
              "    <tr>\n",
              "      <th>1</th>\n",
              "      <td>2</td>\n",
              "      <td>L47181</td>\n",
              "      <td>L</td>\n",
              "      <td>298.2</td>\n",
              "      <td>308.7</td>\n",
              "      <td>1408</td>\n",
              "      <td>46.3</td>\n",
              "      <td>3</td>\n",
              "      <td>0</td>\n",
              "      <td>0</td>\n",
              "      <td>0</td>\n",
              "      <td>0</td>\n",
              "      <td>0</td>\n",
              "      <td>0</td>\n",
              "    </tr>\n",
              "    <tr>\n",
              "      <th>2</th>\n",
              "      <td>3</td>\n",
              "      <td>L47182</td>\n",
              "      <td>L</td>\n",
              "      <td>298.1</td>\n",
              "      <td>308.5</td>\n",
              "      <td>1498</td>\n",
              "      <td>49.4</td>\n",
              "      <td>5</td>\n",
              "      <td>0</td>\n",
              "      <td>0</td>\n",
              "      <td>0</td>\n",
              "      <td>0</td>\n",
              "      <td>0</td>\n",
              "      <td>0</td>\n",
              "    </tr>\n",
              "    <tr>\n",
              "      <th>3</th>\n",
              "      <td>4</td>\n",
              "      <td>L47183</td>\n",
              "      <td>L</td>\n",
              "      <td>298.2</td>\n",
              "      <td>308.6</td>\n",
              "      <td>1433</td>\n",
              "      <td>39.5</td>\n",
              "      <td>7</td>\n",
              "      <td>0</td>\n",
              "      <td>0</td>\n",
              "      <td>0</td>\n",
              "      <td>0</td>\n",
              "      <td>0</td>\n",
              "      <td>0</td>\n",
              "    </tr>\n",
              "    <tr>\n",
              "      <th>4</th>\n",
              "      <td>5</td>\n",
              "      <td>L47184</td>\n",
              "      <td>L</td>\n",
              "      <td>298.2</td>\n",
              "      <td>308.7</td>\n",
              "      <td>1408</td>\n",
              "      <td>40.0</td>\n",
              "      <td>9</td>\n",
              "      <td>0</td>\n",
              "      <td>0</td>\n",
              "      <td>0</td>\n",
              "      <td>0</td>\n",
              "      <td>0</td>\n",
              "      <td>0</td>\n",
              "    </tr>\n",
              "  </tbody>\n",
              "</table>\n",
              "</div>\n",
              "      <button class=\"colab-df-convert\" onclick=\"convertToInteractive('df-172b7366-b010-49d7-a0fc-f2a6283f4569')\"\n",
              "              title=\"Convert this dataframe to an interactive table.\"\n",
              "              style=\"display:none;\">\n",
              "        \n",
              "  <svg xmlns=\"http://www.w3.org/2000/svg\" height=\"24px\"viewBox=\"0 0 24 24\"\n",
              "       width=\"24px\">\n",
              "    <path d=\"M0 0h24v24H0V0z\" fill=\"none\"/>\n",
              "    <path d=\"M18.56 5.44l.94 2.06.94-2.06 2.06-.94-2.06-.94-.94-2.06-.94 2.06-2.06.94zm-11 1L8.5 8.5l.94-2.06 2.06-.94-2.06-.94L8.5 2.5l-.94 2.06-2.06.94zm10 10l.94 2.06.94-2.06 2.06-.94-2.06-.94-.94-2.06-.94 2.06-2.06.94z\"/><path d=\"M17.41 7.96l-1.37-1.37c-.4-.4-.92-.59-1.43-.59-.52 0-1.04.2-1.43.59L10.3 9.45l-7.72 7.72c-.78.78-.78 2.05 0 2.83L4 21.41c.39.39.9.59 1.41.59.51 0 1.02-.2 1.41-.59l7.78-7.78 2.81-2.81c.8-.78.8-2.07 0-2.86zM5.41 20L4 18.59l7.72-7.72 1.47 1.35L5.41 20z\"/>\n",
              "  </svg>\n",
              "      </button>\n",
              "      \n",
              "  <style>\n",
              "    .colab-df-container {\n",
              "      display:flex;\n",
              "      flex-wrap:wrap;\n",
              "      gap: 12px;\n",
              "    }\n",
              "\n",
              "    .colab-df-convert {\n",
              "      background-color: #E8F0FE;\n",
              "      border: none;\n",
              "      border-radius: 50%;\n",
              "      cursor: pointer;\n",
              "      display: none;\n",
              "      fill: #1967D2;\n",
              "      height: 32px;\n",
              "      padding: 0 0 0 0;\n",
              "      width: 32px;\n",
              "    }\n",
              "\n",
              "    .colab-df-convert:hover {\n",
              "      background-color: #E2EBFA;\n",
              "      box-shadow: 0px 1px 2px rgba(60, 64, 67, 0.3), 0px 1px 3px 1px rgba(60, 64, 67, 0.15);\n",
              "      fill: #174EA6;\n",
              "    }\n",
              "\n",
              "    [theme=dark] .colab-df-convert {\n",
              "      background-color: #3B4455;\n",
              "      fill: #D2E3FC;\n",
              "    }\n",
              "\n",
              "    [theme=dark] .colab-df-convert:hover {\n",
              "      background-color: #434B5C;\n",
              "      box-shadow: 0px 1px 3px 1px rgba(0, 0, 0, 0.15);\n",
              "      filter: drop-shadow(0px 1px 2px rgba(0, 0, 0, 0.3));\n",
              "      fill: #FFFFFF;\n",
              "    }\n",
              "  </style>\n",
              "\n",
              "      <script>\n",
              "        const buttonEl =\n",
              "          document.querySelector('#df-172b7366-b010-49d7-a0fc-f2a6283f4569 button.colab-df-convert');\n",
              "        buttonEl.style.display =\n",
              "          google.colab.kernel.accessAllowed ? 'block' : 'none';\n",
              "\n",
              "        async function convertToInteractive(key) {\n",
              "          const element = document.querySelector('#df-172b7366-b010-49d7-a0fc-f2a6283f4569');\n",
              "          const dataTable =\n",
              "            await google.colab.kernel.invokeFunction('convertToInteractive',\n",
              "                                                     [key], {});\n",
              "          if (!dataTable) return;\n",
              "\n",
              "          const docLinkHtml = 'Like what you see? Visit the ' +\n",
              "            '<a target=\"_blank\" href=https://colab.research.google.com/notebooks/data_table.ipynb>data table notebook</a>'\n",
              "            + ' to learn more about interactive tables.';\n",
              "          element.innerHTML = '';\n",
              "          dataTable['output_type'] = 'display_data';\n",
              "          await google.colab.output.renderOutput(dataTable, element);\n",
              "          const docLink = document.createElement('div');\n",
              "          docLink.innerHTML = docLinkHtml;\n",
              "          element.appendChild(docLink);\n",
              "        }\n",
              "      </script>\n",
              "    </div>\n",
              "  </div>\n",
              "  "
            ]
          },
          "metadata": {},
          "execution_count": 4
        }
      ]
    },
    {
      "cell_type": "code",
      "source": [
        "for column in df.columns:\n",
        "    try:\n",
        "        df[column]=df[column].astype(float)\n",
        "    except:\n",
        "        pass\n",
        "df.info()"
      ],
      "metadata": {
        "colab": {
          "base_uri": "https://localhost:8080/"
        },
        "id": "hiJSFYr7EOqp",
        "outputId": "fd0df117-0e27-4f75-9b00-56ea4e43e0e4"
      },
      "execution_count": 5,
      "outputs": [
        {
          "output_type": "stream",
          "name": "stdout",
          "text": [
            "<class 'pandas.core.frame.DataFrame'>\n",
            "RangeIndex: 10000 entries, 0 to 9999\n",
            "Data columns (total 14 columns):\n",
            " #   Column                   Non-Null Count  Dtype  \n",
            "---  ------                   --------------  -----  \n",
            " 0   UDI                      10000 non-null  float64\n",
            " 1   Product ID               10000 non-null  object \n",
            " 2   Type                     10000 non-null  object \n",
            " 3   Air temperature [K]      10000 non-null  float64\n",
            " 4   Process temperature [K]  10000 non-null  float64\n",
            " 5   Rotational speed [rpm]   10000 non-null  float64\n",
            " 6   Torque [Nm]              10000 non-null  float64\n",
            " 7   Tool wear [min]          10000 non-null  float64\n",
            " 8   Machine failure          10000 non-null  float64\n",
            " 9   TWF                      10000 non-null  float64\n",
            " 10  HDF                      10000 non-null  float64\n",
            " 11  PWF                      10000 non-null  float64\n",
            " 12  OSF                      10000 non-null  float64\n",
            " 13  RNF                      10000 non-null  float64\n",
            "dtypes: float64(12), object(2)\n",
            "memory usage: 1.1+ MB\n"
          ]
        }
      ]
    },
    {
      "cell_type": "code",
      "source": [
        "# removendo a classe de falhas aleatórias pq n faz sentido\n",
        "df = df.drop(df[df['RNF'] == 1].index)\n",
        "df.drop(['UDI','Product ID','RNF'],axis=1,inplace=True)\n",
        "df.head()"
      ],
      "metadata": {
        "colab": {
          "base_uri": "https://localhost:8080/",
          "height": 206
        },
        "id": "qIuPT3XoEZO4",
        "outputId": "f11bb7de-e6ae-41bb-ca3a-925bf4a5c5bb"
      },
      "execution_count": 6,
      "outputs": [
        {
          "output_type": "execute_result",
          "data": {
            "text/plain": [
              "  Type  Air temperature [K]  Process temperature [K]  Rotational speed [rpm]  \\\n",
              "0    M                298.1                    308.6                  1551.0   \n",
              "1    L                298.2                    308.7                  1408.0   \n",
              "2    L                298.1                    308.5                  1498.0   \n",
              "3    L                298.2                    308.6                  1433.0   \n",
              "4    L                298.2                    308.7                  1408.0   \n",
              "\n",
              "   Torque [Nm]  Tool wear [min]  Machine failure  TWF  HDF  PWF  OSF  \n",
              "0         42.8              0.0              0.0  0.0  0.0  0.0  0.0  \n",
              "1         46.3              3.0              0.0  0.0  0.0  0.0  0.0  \n",
              "2         49.4              5.0              0.0  0.0  0.0  0.0  0.0  \n",
              "3         39.5              7.0              0.0  0.0  0.0  0.0  0.0  \n",
              "4         40.0              9.0              0.0  0.0  0.0  0.0  0.0  "
            ],
            "text/html": [
              "\n",
              "  <div id=\"df-904e86ea-f651-4f8f-beaa-6324a045a5a6\">\n",
              "    <div class=\"colab-df-container\">\n",
              "      <div>\n",
              "<style scoped>\n",
              "    .dataframe tbody tr th:only-of-type {\n",
              "        vertical-align: middle;\n",
              "    }\n",
              "\n",
              "    .dataframe tbody tr th {\n",
              "        vertical-align: top;\n",
              "    }\n",
              "\n",
              "    .dataframe thead th {\n",
              "        text-align: right;\n",
              "    }\n",
              "</style>\n",
              "<table border=\"1\" class=\"dataframe\">\n",
              "  <thead>\n",
              "    <tr style=\"text-align: right;\">\n",
              "      <th></th>\n",
              "      <th>Type</th>\n",
              "      <th>Air temperature [K]</th>\n",
              "      <th>Process temperature [K]</th>\n",
              "      <th>Rotational speed [rpm]</th>\n",
              "      <th>Torque [Nm]</th>\n",
              "      <th>Tool wear [min]</th>\n",
              "      <th>Machine failure</th>\n",
              "      <th>TWF</th>\n",
              "      <th>HDF</th>\n",
              "      <th>PWF</th>\n",
              "      <th>OSF</th>\n",
              "    </tr>\n",
              "  </thead>\n",
              "  <tbody>\n",
              "    <tr>\n",
              "      <th>0</th>\n",
              "      <td>M</td>\n",
              "      <td>298.1</td>\n",
              "      <td>308.6</td>\n",
              "      <td>1551.0</td>\n",
              "      <td>42.8</td>\n",
              "      <td>0.0</td>\n",
              "      <td>0.0</td>\n",
              "      <td>0.0</td>\n",
              "      <td>0.0</td>\n",
              "      <td>0.0</td>\n",
              "      <td>0.0</td>\n",
              "    </tr>\n",
              "    <tr>\n",
              "      <th>1</th>\n",
              "      <td>L</td>\n",
              "      <td>298.2</td>\n",
              "      <td>308.7</td>\n",
              "      <td>1408.0</td>\n",
              "      <td>46.3</td>\n",
              "      <td>3.0</td>\n",
              "      <td>0.0</td>\n",
              "      <td>0.0</td>\n",
              "      <td>0.0</td>\n",
              "      <td>0.0</td>\n",
              "      <td>0.0</td>\n",
              "    </tr>\n",
              "    <tr>\n",
              "      <th>2</th>\n",
              "      <td>L</td>\n",
              "      <td>298.1</td>\n",
              "      <td>308.5</td>\n",
              "      <td>1498.0</td>\n",
              "      <td>49.4</td>\n",
              "      <td>5.0</td>\n",
              "      <td>0.0</td>\n",
              "      <td>0.0</td>\n",
              "      <td>0.0</td>\n",
              "      <td>0.0</td>\n",
              "      <td>0.0</td>\n",
              "    </tr>\n",
              "    <tr>\n",
              "      <th>3</th>\n",
              "      <td>L</td>\n",
              "      <td>298.2</td>\n",
              "      <td>308.6</td>\n",
              "      <td>1433.0</td>\n",
              "      <td>39.5</td>\n",
              "      <td>7.0</td>\n",
              "      <td>0.0</td>\n",
              "      <td>0.0</td>\n",
              "      <td>0.0</td>\n",
              "      <td>0.0</td>\n",
              "      <td>0.0</td>\n",
              "    </tr>\n",
              "    <tr>\n",
              "      <th>4</th>\n",
              "      <td>L</td>\n",
              "      <td>298.2</td>\n",
              "      <td>308.7</td>\n",
              "      <td>1408.0</td>\n",
              "      <td>40.0</td>\n",
              "      <td>9.0</td>\n",
              "      <td>0.0</td>\n",
              "      <td>0.0</td>\n",
              "      <td>0.0</td>\n",
              "      <td>0.0</td>\n",
              "      <td>0.0</td>\n",
              "    </tr>\n",
              "  </tbody>\n",
              "</table>\n",
              "</div>\n",
              "      <button class=\"colab-df-convert\" onclick=\"convertToInteractive('df-904e86ea-f651-4f8f-beaa-6324a045a5a6')\"\n",
              "              title=\"Convert this dataframe to an interactive table.\"\n",
              "              style=\"display:none;\">\n",
              "        \n",
              "  <svg xmlns=\"http://www.w3.org/2000/svg\" height=\"24px\"viewBox=\"0 0 24 24\"\n",
              "       width=\"24px\">\n",
              "    <path d=\"M0 0h24v24H0V0z\" fill=\"none\"/>\n",
              "    <path d=\"M18.56 5.44l.94 2.06.94-2.06 2.06-.94-2.06-.94-.94-2.06-.94 2.06-2.06.94zm-11 1L8.5 8.5l.94-2.06 2.06-.94-2.06-.94L8.5 2.5l-.94 2.06-2.06.94zm10 10l.94 2.06.94-2.06 2.06-.94-2.06-.94-.94-2.06-.94 2.06-2.06.94z\"/><path d=\"M17.41 7.96l-1.37-1.37c-.4-.4-.92-.59-1.43-.59-.52 0-1.04.2-1.43.59L10.3 9.45l-7.72 7.72c-.78.78-.78 2.05 0 2.83L4 21.41c.39.39.9.59 1.41.59.51 0 1.02-.2 1.41-.59l7.78-7.78 2.81-2.81c.8-.78.8-2.07 0-2.86zM5.41 20L4 18.59l7.72-7.72 1.47 1.35L5.41 20z\"/>\n",
              "  </svg>\n",
              "      </button>\n",
              "      \n",
              "  <style>\n",
              "    .colab-df-container {\n",
              "      display:flex;\n",
              "      flex-wrap:wrap;\n",
              "      gap: 12px;\n",
              "    }\n",
              "\n",
              "    .colab-df-convert {\n",
              "      background-color: #E8F0FE;\n",
              "      border: none;\n",
              "      border-radius: 50%;\n",
              "      cursor: pointer;\n",
              "      display: none;\n",
              "      fill: #1967D2;\n",
              "      height: 32px;\n",
              "      padding: 0 0 0 0;\n",
              "      width: 32px;\n",
              "    }\n",
              "\n",
              "    .colab-df-convert:hover {\n",
              "      background-color: #E2EBFA;\n",
              "      box-shadow: 0px 1px 2px rgba(60, 64, 67, 0.3), 0px 1px 3px 1px rgba(60, 64, 67, 0.15);\n",
              "      fill: #174EA6;\n",
              "    }\n",
              "\n",
              "    [theme=dark] .colab-df-convert {\n",
              "      background-color: #3B4455;\n",
              "      fill: #D2E3FC;\n",
              "    }\n",
              "\n",
              "    [theme=dark] .colab-df-convert:hover {\n",
              "      background-color: #434B5C;\n",
              "      box-shadow: 0px 1px 3px 1px rgba(0, 0, 0, 0.15);\n",
              "      filter: drop-shadow(0px 1px 2px rgba(0, 0, 0, 0.3));\n",
              "      fill: #FFFFFF;\n",
              "    }\n",
              "  </style>\n",
              "\n",
              "      <script>\n",
              "        const buttonEl =\n",
              "          document.querySelector('#df-904e86ea-f651-4f8f-beaa-6324a045a5a6 button.colab-df-convert');\n",
              "        buttonEl.style.display =\n",
              "          google.colab.kernel.accessAllowed ? 'block' : 'none';\n",
              "\n",
              "        async function convertToInteractive(key) {\n",
              "          const element = document.querySelector('#df-904e86ea-f651-4f8f-beaa-6324a045a5a6');\n",
              "          const dataTable =\n",
              "            await google.colab.kernel.invokeFunction('convertToInteractive',\n",
              "                                                     [key], {});\n",
              "          if (!dataTable) return;\n",
              "\n",
              "          const docLinkHtml = 'Like what you see? Visit the ' +\n",
              "            '<a target=\"_blank\" href=https://colab.research.google.com/notebooks/data_table.ipynb>data table notebook</a>'\n",
              "            + ' to learn more about interactive tables.';\n",
              "          element.innerHTML = '';\n",
              "          dataTable['output_type'] = 'display_data';\n",
              "          await google.colab.output.renderOutput(dataTable, element);\n",
              "          const docLink = document.createElement('div');\n",
              "          docLink.innerHTML = docLinkHtml;\n",
              "          element.appendChild(docLink);\n",
              "        }\n",
              "      </script>\n",
              "    </div>\n",
              "  </div>\n",
              "  "
            ]
          },
          "metadata": {},
          "execution_count": 6
        }
      ]
    },
    {
      "cell_type": "code",
      "source": [
        "# deixando tudo em uma unica coluna\n",
        "df['Machine failure']= 0\n",
        "df['Machine failure'][df['TWF']==1]=1\n",
        "df['Machine failure'][df['HDF']==1]=2\n",
        "df['Machine failure'][df['PWF']==1]=3\n",
        "df['Machine failure'][df['OSF']==1]=4\n",
        "#df['Machine failure'][df['RNF']==1]=5\n",
        "df.drop(['TWF','HDF','PWF','OSF'],axis=1,inplace=True)  #,'RNF'],axis=1,inplace=True)"
      ],
      "metadata": {
        "id": "HhxNixJQE6tc"
      },
      "execution_count": 7,
      "outputs": []
    },
    {
      "cell_type": "code",
      "source": [
        "print('Classes:', df['Machine failure'].unique())\n",
        "df.head()"
      ],
      "metadata": {
        "colab": {
          "base_uri": "https://localhost:8080/",
          "height": 224
        },
        "id": "ikwKXXY0E9oz",
        "outputId": "b5b7c848-27df-4667-c90c-355ea0c007ed"
      },
      "execution_count": 8,
      "outputs": [
        {
          "output_type": "stream",
          "name": "stdout",
          "text": [
            "Classes: [0 3 4 1 2]\n"
          ]
        },
        {
          "output_type": "execute_result",
          "data": {
            "text/plain": [
              "  Type  Air temperature [K]  Process temperature [K]  Rotational speed [rpm]  \\\n",
              "0    M                298.1                    308.6                  1551.0   \n",
              "1    L                298.2                    308.7                  1408.0   \n",
              "2    L                298.1                    308.5                  1498.0   \n",
              "3    L                298.2                    308.6                  1433.0   \n",
              "4    L                298.2                    308.7                  1408.0   \n",
              "\n",
              "   Torque [Nm]  Tool wear [min]  Machine failure  \n",
              "0         42.8              0.0                0  \n",
              "1         46.3              3.0                0  \n",
              "2         49.4              5.0                0  \n",
              "3         39.5              7.0                0  \n",
              "4         40.0              9.0                0  "
            ],
            "text/html": [
              "\n",
              "  <div id=\"df-1bf8dec0-5553-492f-b47c-53151665d2c9\">\n",
              "    <div class=\"colab-df-container\">\n",
              "      <div>\n",
              "<style scoped>\n",
              "    .dataframe tbody tr th:only-of-type {\n",
              "        vertical-align: middle;\n",
              "    }\n",
              "\n",
              "    .dataframe tbody tr th {\n",
              "        vertical-align: top;\n",
              "    }\n",
              "\n",
              "    .dataframe thead th {\n",
              "        text-align: right;\n",
              "    }\n",
              "</style>\n",
              "<table border=\"1\" class=\"dataframe\">\n",
              "  <thead>\n",
              "    <tr style=\"text-align: right;\">\n",
              "      <th></th>\n",
              "      <th>Type</th>\n",
              "      <th>Air temperature [K]</th>\n",
              "      <th>Process temperature [K]</th>\n",
              "      <th>Rotational speed [rpm]</th>\n",
              "      <th>Torque [Nm]</th>\n",
              "      <th>Tool wear [min]</th>\n",
              "      <th>Machine failure</th>\n",
              "    </tr>\n",
              "  </thead>\n",
              "  <tbody>\n",
              "    <tr>\n",
              "      <th>0</th>\n",
              "      <td>M</td>\n",
              "      <td>298.1</td>\n",
              "      <td>308.6</td>\n",
              "      <td>1551.0</td>\n",
              "      <td>42.8</td>\n",
              "      <td>0.0</td>\n",
              "      <td>0</td>\n",
              "    </tr>\n",
              "    <tr>\n",
              "      <th>1</th>\n",
              "      <td>L</td>\n",
              "      <td>298.2</td>\n",
              "      <td>308.7</td>\n",
              "      <td>1408.0</td>\n",
              "      <td>46.3</td>\n",
              "      <td>3.0</td>\n",
              "      <td>0</td>\n",
              "    </tr>\n",
              "    <tr>\n",
              "      <th>2</th>\n",
              "      <td>L</td>\n",
              "      <td>298.1</td>\n",
              "      <td>308.5</td>\n",
              "      <td>1498.0</td>\n",
              "      <td>49.4</td>\n",
              "      <td>5.0</td>\n",
              "      <td>0</td>\n",
              "    </tr>\n",
              "    <tr>\n",
              "      <th>3</th>\n",
              "      <td>L</td>\n",
              "      <td>298.2</td>\n",
              "      <td>308.6</td>\n",
              "      <td>1433.0</td>\n",
              "      <td>39.5</td>\n",
              "      <td>7.0</td>\n",
              "      <td>0</td>\n",
              "    </tr>\n",
              "    <tr>\n",
              "      <th>4</th>\n",
              "      <td>L</td>\n",
              "      <td>298.2</td>\n",
              "      <td>308.7</td>\n",
              "      <td>1408.0</td>\n",
              "      <td>40.0</td>\n",
              "      <td>9.0</td>\n",
              "      <td>0</td>\n",
              "    </tr>\n",
              "  </tbody>\n",
              "</table>\n",
              "</div>\n",
              "      <button class=\"colab-df-convert\" onclick=\"convertToInteractive('df-1bf8dec0-5553-492f-b47c-53151665d2c9')\"\n",
              "              title=\"Convert this dataframe to an interactive table.\"\n",
              "              style=\"display:none;\">\n",
              "        \n",
              "  <svg xmlns=\"http://www.w3.org/2000/svg\" height=\"24px\"viewBox=\"0 0 24 24\"\n",
              "       width=\"24px\">\n",
              "    <path d=\"M0 0h24v24H0V0z\" fill=\"none\"/>\n",
              "    <path d=\"M18.56 5.44l.94 2.06.94-2.06 2.06-.94-2.06-.94-.94-2.06-.94 2.06-2.06.94zm-11 1L8.5 8.5l.94-2.06 2.06-.94-2.06-.94L8.5 2.5l-.94 2.06-2.06.94zm10 10l.94 2.06.94-2.06 2.06-.94-2.06-.94-.94-2.06-.94 2.06-2.06.94z\"/><path d=\"M17.41 7.96l-1.37-1.37c-.4-.4-.92-.59-1.43-.59-.52 0-1.04.2-1.43.59L10.3 9.45l-7.72 7.72c-.78.78-.78 2.05 0 2.83L4 21.41c.39.39.9.59 1.41.59.51 0 1.02-.2 1.41-.59l7.78-7.78 2.81-2.81c.8-.78.8-2.07 0-2.86zM5.41 20L4 18.59l7.72-7.72 1.47 1.35L5.41 20z\"/>\n",
              "  </svg>\n",
              "      </button>\n",
              "      \n",
              "  <style>\n",
              "    .colab-df-container {\n",
              "      display:flex;\n",
              "      flex-wrap:wrap;\n",
              "      gap: 12px;\n",
              "    }\n",
              "\n",
              "    .colab-df-convert {\n",
              "      background-color: #E8F0FE;\n",
              "      border: none;\n",
              "      border-radius: 50%;\n",
              "      cursor: pointer;\n",
              "      display: none;\n",
              "      fill: #1967D2;\n",
              "      height: 32px;\n",
              "      padding: 0 0 0 0;\n",
              "      width: 32px;\n",
              "    }\n",
              "\n",
              "    .colab-df-convert:hover {\n",
              "      background-color: #E2EBFA;\n",
              "      box-shadow: 0px 1px 2px rgba(60, 64, 67, 0.3), 0px 1px 3px 1px rgba(60, 64, 67, 0.15);\n",
              "      fill: #174EA6;\n",
              "    }\n",
              "\n",
              "    [theme=dark] .colab-df-convert {\n",
              "      background-color: #3B4455;\n",
              "      fill: #D2E3FC;\n",
              "    }\n",
              "\n",
              "    [theme=dark] .colab-df-convert:hover {\n",
              "      background-color: #434B5C;\n",
              "      box-shadow: 0px 1px 3px 1px rgba(0, 0, 0, 0.15);\n",
              "      filter: drop-shadow(0px 1px 2px rgba(0, 0, 0, 0.3));\n",
              "      fill: #FFFFFF;\n",
              "    }\n",
              "  </style>\n",
              "\n",
              "      <script>\n",
              "        const buttonEl =\n",
              "          document.querySelector('#df-1bf8dec0-5553-492f-b47c-53151665d2c9 button.colab-df-convert');\n",
              "        buttonEl.style.display =\n",
              "          google.colab.kernel.accessAllowed ? 'block' : 'none';\n",
              "\n",
              "        async function convertToInteractive(key) {\n",
              "          const element = document.querySelector('#df-1bf8dec0-5553-492f-b47c-53151665d2c9');\n",
              "          const dataTable =\n",
              "            await google.colab.kernel.invokeFunction('convertToInteractive',\n",
              "                                                     [key], {});\n",
              "          if (!dataTable) return;\n",
              "\n",
              "          const docLinkHtml = 'Like what you see? Visit the ' +\n",
              "            '<a target=\"_blank\" href=https://colab.research.google.com/notebooks/data_table.ipynb>data table notebook</a>'\n",
              "            + ' to learn more about interactive tables.';\n",
              "          element.innerHTML = '';\n",
              "          dataTable['output_type'] = 'display_data';\n",
              "          await google.colab.output.renderOutput(dataTable, element);\n",
              "          const docLink = document.createElement('div');\n",
              "          docLink.innerHTML = docLinkHtml;\n",
              "          element.appendChild(docLink);\n",
              "        }\n",
              "      </script>\n",
              "    </div>\n",
              "  </div>\n",
              "  "
            ]
          },
          "metadata": {},
          "execution_count": 8
        }
      ]
    },
    {
      "cell_type": "markdown",
      "source": [
        "Engenharia de Features"
      ],
      "metadata": {
        "id": "LsSVMnpBMJU9"
      }
    },
    {
      "cell_type": "code",
      "source": [
        "#potencia\n",
        "df['Power'] = df['Rotational speed [rpm]']*df['Torque [Nm]']\n",
        "#desgaste por potencia\n",
        "df['Power wear'] = df['Power']*df['Tool wear [min]']\n",
        "# Diferença de temperatura\n",
        "df['Temperature difference'] = df['Process temperature [K]']-df['Air temperature [K]']\n",
        "# Razão da diferença de temperatura pela potencia\n",
        "df['Temperature power'] = df['Temperature difference']/df['Power']\n",
        "# Temperatura por tempo de desgaste\n",
        "df['Temperature wear'] = df['Temperature difference'] * df['Tool wear [min]']\n",
        "#Torque por diferença de temperatura\n",
        "df['Temperature torque'] = df['Temperature difference']/df['Torque [Nm]']\n",
        "#Torque em relação a potência aplicada\n",
        "df['Torque power'] = df['Torque [Nm]']/df['Power']"
      ],
      "metadata": {
        "id": "lpcuYxI3FFWg"
      },
      "execution_count": 9,
      "outputs": []
    },
    {
      "cell_type": "code",
      "source": [
        "df = df[['Air temperature [K]',\n",
        "         'Process temperature [K]',\n",
        "         'Rotational speed [rpm]',\n",
        "         'Torque [Nm]',\n",
        "         'Tool wear [min]',\n",
        "         'Power',\n",
        "         'Power wear',\n",
        "         'Temperature difference',\n",
        "         'Temperature power',\n",
        "         'Temperature wear',\n",
        "         'Temperature torque',\n",
        "         'Torque power',\n",
        "         'Type',\n",
        "         'Machine failure'\n",
        "        ]]"
      ],
      "metadata": {
        "id": "p9g8rSK1FSgw"
      },
      "execution_count": 10,
      "outputs": []
    },
    {
      "cell_type": "code",
      "source": [
        "# get_dummies aplica o one hot encoder nos dados categoricos\n",
        "df = pd.get_dummies(df,drop_first=True)"
      ],
      "metadata": {
        "id": "-GzLUCANFVQ9"
      },
      "execution_count": 11,
      "outputs": []
    },
    {
      "cell_type": "code",
      "source": [
        "df.head()"
      ],
      "metadata": {
        "colab": {
          "base_uri": "https://localhost:8080/",
          "height": 285
        },
        "id": "NXTDY2_2FaKH",
        "outputId": "bbd8a38d-d9c8-4161-edec-d269d0b8c8f2"
      },
      "execution_count": 12,
      "outputs": [
        {
          "output_type": "execute_result",
          "data": {
            "text/plain": [
              "   Air temperature [K]  Process temperature [K]  Rotational speed [rpm]  \\\n",
              "0                298.1                    308.6                  1551.0   \n",
              "1                298.2                    308.7                  1408.0   \n",
              "2                298.1                    308.5                  1498.0   \n",
              "3                298.2                    308.6                  1433.0   \n",
              "4                298.2                    308.7                  1408.0   \n",
              "\n",
              "   Torque [Nm]  Tool wear [min]    Power  Power wear  Temperature difference  \\\n",
              "0         42.8              0.0  66382.8         0.0                    10.5   \n",
              "1         46.3              3.0  65190.4    195571.2                    10.5   \n",
              "2         49.4              5.0  74001.2    370006.0                    10.4   \n",
              "3         39.5              7.0  56603.5    396224.5                    10.4   \n",
              "4         40.0              9.0  56320.0    506880.0                    10.5   \n",
              "\n",
              "   Temperature power  Temperature wear  Temperature torque  Torque power  \\\n",
              "0           0.000158               0.0            0.245327      0.000645   \n",
              "1           0.000161              31.5            0.226782      0.000710   \n",
              "2           0.000141              52.0            0.210526      0.000668   \n",
              "3           0.000184              72.8            0.263291      0.000698   \n",
              "4           0.000186              94.5            0.262500      0.000710   \n",
              "\n",
              "   Machine failure  Type_L  Type_M  \n",
              "0                0       0       1  \n",
              "1                0       1       0  \n",
              "2                0       1       0  \n",
              "3                0       1       0  \n",
              "4                0       1       0  "
            ],
            "text/html": [
              "\n",
              "  <div id=\"df-ed7b88a2-b713-401e-aa2d-91dca4078376\">\n",
              "    <div class=\"colab-df-container\">\n",
              "      <div>\n",
              "<style scoped>\n",
              "    .dataframe tbody tr th:only-of-type {\n",
              "        vertical-align: middle;\n",
              "    }\n",
              "\n",
              "    .dataframe tbody tr th {\n",
              "        vertical-align: top;\n",
              "    }\n",
              "\n",
              "    .dataframe thead th {\n",
              "        text-align: right;\n",
              "    }\n",
              "</style>\n",
              "<table border=\"1\" class=\"dataframe\">\n",
              "  <thead>\n",
              "    <tr style=\"text-align: right;\">\n",
              "      <th></th>\n",
              "      <th>Air temperature [K]</th>\n",
              "      <th>Process temperature [K]</th>\n",
              "      <th>Rotational speed [rpm]</th>\n",
              "      <th>Torque [Nm]</th>\n",
              "      <th>Tool wear [min]</th>\n",
              "      <th>Power</th>\n",
              "      <th>Power wear</th>\n",
              "      <th>Temperature difference</th>\n",
              "      <th>Temperature power</th>\n",
              "      <th>Temperature wear</th>\n",
              "      <th>Temperature torque</th>\n",
              "      <th>Torque power</th>\n",
              "      <th>Machine failure</th>\n",
              "      <th>Type_L</th>\n",
              "      <th>Type_M</th>\n",
              "    </tr>\n",
              "  </thead>\n",
              "  <tbody>\n",
              "    <tr>\n",
              "      <th>0</th>\n",
              "      <td>298.1</td>\n",
              "      <td>308.6</td>\n",
              "      <td>1551.0</td>\n",
              "      <td>42.8</td>\n",
              "      <td>0.0</td>\n",
              "      <td>66382.8</td>\n",
              "      <td>0.0</td>\n",
              "      <td>10.5</td>\n",
              "      <td>0.000158</td>\n",
              "      <td>0.0</td>\n",
              "      <td>0.245327</td>\n",
              "      <td>0.000645</td>\n",
              "      <td>0</td>\n",
              "      <td>0</td>\n",
              "      <td>1</td>\n",
              "    </tr>\n",
              "    <tr>\n",
              "      <th>1</th>\n",
              "      <td>298.2</td>\n",
              "      <td>308.7</td>\n",
              "      <td>1408.0</td>\n",
              "      <td>46.3</td>\n",
              "      <td>3.0</td>\n",
              "      <td>65190.4</td>\n",
              "      <td>195571.2</td>\n",
              "      <td>10.5</td>\n",
              "      <td>0.000161</td>\n",
              "      <td>31.5</td>\n",
              "      <td>0.226782</td>\n",
              "      <td>0.000710</td>\n",
              "      <td>0</td>\n",
              "      <td>1</td>\n",
              "      <td>0</td>\n",
              "    </tr>\n",
              "    <tr>\n",
              "      <th>2</th>\n",
              "      <td>298.1</td>\n",
              "      <td>308.5</td>\n",
              "      <td>1498.0</td>\n",
              "      <td>49.4</td>\n",
              "      <td>5.0</td>\n",
              "      <td>74001.2</td>\n",
              "      <td>370006.0</td>\n",
              "      <td>10.4</td>\n",
              "      <td>0.000141</td>\n",
              "      <td>52.0</td>\n",
              "      <td>0.210526</td>\n",
              "      <td>0.000668</td>\n",
              "      <td>0</td>\n",
              "      <td>1</td>\n",
              "      <td>0</td>\n",
              "    </tr>\n",
              "    <tr>\n",
              "      <th>3</th>\n",
              "      <td>298.2</td>\n",
              "      <td>308.6</td>\n",
              "      <td>1433.0</td>\n",
              "      <td>39.5</td>\n",
              "      <td>7.0</td>\n",
              "      <td>56603.5</td>\n",
              "      <td>396224.5</td>\n",
              "      <td>10.4</td>\n",
              "      <td>0.000184</td>\n",
              "      <td>72.8</td>\n",
              "      <td>0.263291</td>\n",
              "      <td>0.000698</td>\n",
              "      <td>0</td>\n",
              "      <td>1</td>\n",
              "      <td>0</td>\n",
              "    </tr>\n",
              "    <tr>\n",
              "      <th>4</th>\n",
              "      <td>298.2</td>\n",
              "      <td>308.7</td>\n",
              "      <td>1408.0</td>\n",
              "      <td>40.0</td>\n",
              "      <td>9.0</td>\n",
              "      <td>56320.0</td>\n",
              "      <td>506880.0</td>\n",
              "      <td>10.5</td>\n",
              "      <td>0.000186</td>\n",
              "      <td>94.5</td>\n",
              "      <td>0.262500</td>\n",
              "      <td>0.000710</td>\n",
              "      <td>0</td>\n",
              "      <td>1</td>\n",
              "      <td>0</td>\n",
              "    </tr>\n",
              "  </tbody>\n",
              "</table>\n",
              "</div>\n",
              "      <button class=\"colab-df-convert\" onclick=\"convertToInteractive('df-ed7b88a2-b713-401e-aa2d-91dca4078376')\"\n",
              "              title=\"Convert this dataframe to an interactive table.\"\n",
              "              style=\"display:none;\">\n",
              "        \n",
              "  <svg xmlns=\"http://www.w3.org/2000/svg\" height=\"24px\"viewBox=\"0 0 24 24\"\n",
              "       width=\"24px\">\n",
              "    <path d=\"M0 0h24v24H0V0z\" fill=\"none\"/>\n",
              "    <path d=\"M18.56 5.44l.94 2.06.94-2.06 2.06-.94-2.06-.94-.94-2.06-.94 2.06-2.06.94zm-11 1L8.5 8.5l.94-2.06 2.06-.94-2.06-.94L8.5 2.5l-.94 2.06-2.06.94zm10 10l.94 2.06.94-2.06 2.06-.94-2.06-.94-.94-2.06-.94 2.06-2.06.94z\"/><path d=\"M17.41 7.96l-1.37-1.37c-.4-.4-.92-.59-1.43-.59-.52 0-1.04.2-1.43.59L10.3 9.45l-7.72 7.72c-.78.78-.78 2.05 0 2.83L4 21.41c.39.39.9.59 1.41.59.51 0 1.02-.2 1.41-.59l7.78-7.78 2.81-2.81c.8-.78.8-2.07 0-2.86zM5.41 20L4 18.59l7.72-7.72 1.47 1.35L5.41 20z\"/>\n",
              "  </svg>\n",
              "      </button>\n",
              "      \n",
              "  <style>\n",
              "    .colab-df-container {\n",
              "      display:flex;\n",
              "      flex-wrap:wrap;\n",
              "      gap: 12px;\n",
              "    }\n",
              "\n",
              "    .colab-df-convert {\n",
              "      background-color: #E8F0FE;\n",
              "      border: none;\n",
              "      border-radius: 50%;\n",
              "      cursor: pointer;\n",
              "      display: none;\n",
              "      fill: #1967D2;\n",
              "      height: 32px;\n",
              "      padding: 0 0 0 0;\n",
              "      width: 32px;\n",
              "    }\n",
              "\n",
              "    .colab-df-convert:hover {\n",
              "      background-color: #E2EBFA;\n",
              "      box-shadow: 0px 1px 2px rgba(60, 64, 67, 0.3), 0px 1px 3px 1px rgba(60, 64, 67, 0.15);\n",
              "      fill: #174EA6;\n",
              "    }\n",
              "\n",
              "    [theme=dark] .colab-df-convert {\n",
              "      background-color: #3B4455;\n",
              "      fill: #D2E3FC;\n",
              "    }\n",
              "\n",
              "    [theme=dark] .colab-df-convert:hover {\n",
              "      background-color: #434B5C;\n",
              "      box-shadow: 0px 1px 3px 1px rgba(0, 0, 0, 0.15);\n",
              "      filter: drop-shadow(0px 1px 2px rgba(0, 0, 0, 0.3));\n",
              "      fill: #FFFFFF;\n",
              "    }\n",
              "  </style>\n",
              "\n",
              "      <script>\n",
              "        const buttonEl =\n",
              "          document.querySelector('#df-ed7b88a2-b713-401e-aa2d-91dca4078376 button.colab-df-convert');\n",
              "        buttonEl.style.display =\n",
              "          google.colab.kernel.accessAllowed ? 'block' : 'none';\n",
              "\n",
              "        async function convertToInteractive(key) {\n",
              "          const element = document.querySelector('#df-ed7b88a2-b713-401e-aa2d-91dca4078376');\n",
              "          const dataTable =\n",
              "            await google.colab.kernel.invokeFunction('convertToInteractive',\n",
              "                                                     [key], {});\n",
              "          if (!dataTable) return;\n",
              "\n",
              "          const docLinkHtml = 'Like what you see? Visit the ' +\n",
              "            '<a target=\"_blank\" href=https://colab.research.google.com/notebooks/data_table.ipynb>data table notebook</a>'\n",
              "            + ' to learn more about interactive tables.';\n",
              "          element.innerHTML = '';\n",
              "          dataTable['output_type'] = 'display_data';\n",
              "          await google.colab.output.renderOutput(dataTable, element);\n",
              "          const docLink = document.createElement('div');\n",
              "          docLink.innerHTML = docLinkHtml;\n",
              "          element.appendChild(docLink);\n",
              "        }\n",
              "      </script>\n",
              "    </div>\n",
              "  </div>\n",
              "  "
            ]
          },
          "metadata": {},
          "execution_count": 12
        }
      ]
    },
    {
      "cell_type": "code",
      "source": [
        "#verificando a qualidade dos dados pra ver se teve algum valor Na com as operações\n",
        "df.isna().sum()"
      ],
      "metadata": {
        "colab": {
          "base_uri": "https://localhost:8080/"
        },
        "id": "UC4q40WJFbnp",
        "outputId": "e1e57776-20fb-44f2-e7f8-cea9320204b9"
      },
      "execution_count": 13,
      "outputs": [
        {
          "output_type": "execute_result",
          "data": {
            "text/plain": [
              "Air temperature [K]        0\n",
              "Process temperature [K]    0\n",
              "Rotational speed [rpm]     0\n",
              "Torque [Nm]                0\n",
              "Tool wear [min]            0\n",
              "Power                      0\n",
              "Power wear                 0\n",
              "Temperature difference     0\n",
              "Temperature power          0\n",
              "Temperature wear           0\n",
              "Temperature torque         0\n",
              "Torque power               0\n",
              "Machine failure            0\n",
              "Type_L                     0\n",
              "Type_M                     0\n",
              "dtype: int64"
            ]
          },
          "metadata": {},
          "execution_count": 13
        }
      ]
    },
    {
      "cell_type": "markdown",
      "source": [
        "Seleção de Features"
      ],
      "metadata": {
        "id": "r7XoO6gmMO3G"
      }
    },
    {
      "cell_type": "code",
      "source": [
        "# Feature Selection\n",
        "from sklearn.feature_selection import SelectKBest, chi2\n",
        "import plotly.graph_objects as go\n",
        "\n",
        "best_features = SelectKBest(score_func=chi2,k='all')\n",
        "\n",
        "X = df.drop('Machine failure',axis =1 ) # features\n",
        "y = df['Machine failure'] # alvo\n",
        "\n",
        "\n",
        "fit = best_features.fit(X,y)\n",
        "\n",
        "df_scores=pd.DataFrame(fit.scores_)\n",
        "df_col=pd.DataFrame(X.columns)\n",
        "\n",
        "feature_score=pd.concat([df_col,df_scores],axis=1)\n",
        "feature_score.columns=['feature','score']\n",
        "feature_score.sort_values(by=['score'],ascending=True,inplace=True)\n",
        "\n",
        "fig = go.Figure(go.Bar(\n",
        "            x=feature_score['score'][0:21],\n",
        "            y=feature_score['feature'][0:21],\n",
        "            orientation='h'))\n",
        "\n",
        "fig.update_layout(title=\"Melhores 20 Atributos\",\n",
        "                  height=500,\n",
        "                  showlegend=False,\n",
        "                 )\n",
        "\n",
        "fig.show()"
      ],
      "metadata": {
        "colab": {
          "base_uri": "https://localhost:8080/",
          "height": 517
        },
        "id": "xm1COnhrFhgM",
        "outputId": "b734303d-d1dd-4a44-a32f-5a4e0b1e22b9"
      },
      "execution_count": 14,
      "outputs": [
        {
          "output_type": "display_data",
          "data": {
            "text/html": [
              "<html>\n",
              "<head><meta charset=\"utf-8\" /></head>\n",
              "<body>\n",
              "    <div>            <script src=\"https://cdnjs.cloudflare.com/ajax/libs/mathjax/2.7.5/MathJax.js?config=TeX-AMS-MML_SVG\"></script><script type=\"text/javascript\">if (window.MathJax && window.MathJax.Hub && window.MathJax.Hub.Config) {window.MathJax.Hub.Config({SVG: {font: \"STIX-Web\"}});}</script>                <script type=\"text/javascript\">window.PlotlyConfig = {MathJaxConfig: 'local'};</script>\n",
              "        <script src=\"https://cdn.plot.ly/plotly-2.18.2.min.js\"></script>                <div id=\"88d5c6ac-eb9d-445f-a8bd-c1503aef19fb\" class=\"plotly-graph-div\" style=\"height:500px; width:100%;\"></div>            <script type=\"text/javascript\">                                    window.PLOTLYENV=window.PLOTLYENV || {};                                    if (document.getElementById(\"88d5c6ac-eb9d-445f-a8bd-c1503aef19fb\")) {                    Plotly.newPlot(                        \"88d5c6ac-eb9d-445f-a8bd-c1503aef19fb\",                        [{\"orientation\":\"h\",\"x\":[0.0026580005898616697,0.003891399434179702,0.22440591770624144,2.353418648743295,14.12026442821743,14.8115992823782,23.170079850441336,33.447194834015505,1353.6398631148777,9420.583516677998,14086.867921572935,144719.80834621948,836076.7403728957,1689855711.6994872],\"y\":[\"Torque power\",\"Temperature power\",\"Process temperature [K]\",\"Air temperature [K]\",\"Type_L\",\"Type_M\",\"Temperature torque\",\"Temperature difference\",\"Torque [Nm]\",\"Rotational speed [rpm]\",\"Tool wear [min]\",\"Temperature wear\",\"Power\",\"Power wear\"],\"type\":\"bar\"}],                        {\"template\":{\"data\":{\"histogram2dcontour\":[{\"type\":\"histogram2dcontour\",\"colorbar\":{\"outlinewidth\":0,\"ticks\":\"\"},\"colorscale\":[[0.0,\"#0d0887\"],[0.1111111111111111,\"#46039f\"],[0.2222222222222222,\"#7201a8\"],[0.3333333333333333,\"#9c179e\"],[0.4444444444444444,\"#bd3786\"],[0.5555555555555556,\"#d8576b\"],[0.6666666666666666,\"#ed7953\"],[0.7777777777777778,\"#fb9f3a\"],[0.8888888888888888,\"#fdca26\"],[1.0,\"#f0f921\"]]}],\"choropleth\":[{\"type\":\"choropleth\",\"colorbar\":{\"outlinewidth\":0,\"ticks\":\"\"}}],\"histogram2d\":[{\"type\":\"histogram2d\",\"colorbar\":{\"outlinewidth\":0,\"ticks\":\"\"},\"colorscale\":[[0.0,\"#0d0887\"],[0.1111111111111111,\"#46039f\"],[0.2222222222222222,\"#7201a8\"],[0.3333333333333333,\"#9c179e\"],[0.4444444444444444,\"#bd3786\"],[0.5555555555555556,\"#d8576b\"],[0.6666666666666666,\"#ed7953\"],[0.7777777777777778,\"#fb9f3a\"],[0.8888888888888888,\"#fdca26\"],[1.0,\"#f0f921\"]]}],\"heatmap\":[{\"type\":\"heatmap\",\"colorbar\":{\"outlinewidth\":0,\"ticks\":\"\"},\"colorscale\":[[0.0,\"#0d0887\"],[0.1111111111111111,\"#46039f\"],[0.2222222222222222,\"#7201a8\"],[0.3333333333333333,\"#9c179e\"],[0.4444444444444444,\"#bd3786\"],[0.5555555555555556,\"#d8576b\"],[0.6666666666666666,\"#ed7953\"],[0.7777777777777778,\"#fb9f3a\"],[0.8888888888888888,\"#fdca26\"],[1.0,\"#f0f921\"]]}],\"heatmapgl\":[{\"type\":\"heatmapgl\",\"colorbar\":{\"outlinewidth\":0,\"ticks\":\"\"},\"colorscale\":[[0.0,\"#0d0887\"],[0.1111111111111111,\"#46039f\"],[0.2222222222222222,\"#7201a8\"],[0.3333333333333333,\"#9c179e\"],[0.4444444444444444,\"#bd3786\"],[0.5555555555555556,\"#d8576b\"],[0.6666666666666666,\"#ed7953\"],[0.7777777777777778,\"#fb9f3a\"],[0.8888888888888888,\"#fdca26\"],[1.0,\"#f0f921\"]]}],\"contourcarpet\":[{\"type\":\"contourcarpet\",\"colorbar\":{\"outlinewidth\":0,\"ticks\":\"\"}}],\"contour\":[{\"type\":\"contour\",\"colorbar\":{\"outlinewidth\":0,\"ticks\":\"\"},\"colorscale\":[[0.0,\"#0d0887\"],[0.1111111111111111,\"#46039f\"],[0.2222222222222222,\"#7201a8\"],[0.3333333333333333,\"#9c179e\"],[0.4444444444444444,\"#bd3786\"],[0.5555555555555556,\"#d8576b\"],[0.6666666666666666,\"#ed7953\"],[0.7777777777777778,\"#fb9f3a\"],[0.8888888888888888,\"#fdca26\"],[1.0,\"#f0f921\"]]}],\"surface\":[{\"type\":\"surface\",\"colorbar\":{\"outlinewidth\":0,\"ticks\":\"\"},\"colorscale\":[[0.0,\"#0d0887\"],[0.1111111111111111,\"#46039f\"],[0.2222222222222222,\"#7201a8\"],[0.3333333333333333,\"#9c179e\"],[0.4444444444444444,\"#bd3786\"],[0.5555555555555556,\"#d8576b\"],[0.6666666666666666,\"#ed7953\"],[0.7777777777777778,\"#fb9f3a\"],[0.8888888888888888,\"#fdca26\"],[1.0,\"#f0f921\"]]}],\"mesh3d\":[{\"type\":\"mesh3d\",\"colorbar\":{\"outlinewidth\":0,\"ticks\":\"\"}}],\"scatter\":[{\"fillpattern\":{\"fillmode\":\"overlay\",\"size\":10,\"solidity\":0.2},\"type\":\"scatter\"}],\"parcoords\":[{\"type\":\"parcoords\",\"line\":{\"colorbar\":{\"outlinewidth\":0,\"ticks\":\"\"}}}],\"scatterpolargl\":[{\"type\":\"scatterpolargl\",\"marker\":{\"colorbar\":{\"outlinewidth\":0,\"ticks\":\"\"}}}],\"bar\":[{\"error_x\":{\"color\":\"#2a3f5f\"},\"error_y\":{\"color\":\"#2a3f5f\"},\"marker\":{\"line\":{\"color\":\"#E5ECF6\",\"width\":0.5},\"pattern\":{\"fillmode\":\"overlay\",\"size\":10,\"solidity\":0.2}},\"type\":\"bar\"}],\"scattergeo\":[{\"type\":\"scattergeo\",\"marker\":{\"colorbar\":{\"outlinewidth\":0,\"ticks\":\"\"}}}],\"scatterpolar\":[{\"type\":\"scatterpolar\",\"marker\":{\"colorbar\":{\"outlinewidth\":0,\"ticks\":\"\"}}}],\"histogram\":[{\"marker\":{\"pattern\":{\"fillmode\":\"overlay\",\"size\":10,\"solidity\":0.2}},\"type\":\"histogram\"}],\"scattergl\":[{\"type\":\"scattergl\",\"marker\":{\"colorbar\":{\"outlinewidth\":0,\"ticks\":\"\"}}}],\"scatter3d\":[{\"type\":\"scatter3d\",\"line\":{\"colorbar\":{\"outlinewidth\":0,\"ticks\":\"\"}},\"marker\":{\"colorbar\":{\"outlinewidth\":0,\"ticks\":\"\"}}}],\"scattermapbox\":[{\"type\":\"scattermapbox\",\"marker\":{\"colorbar\":{\"outlinewidth\":0,\"ticks\":\"\"}}}],\"scatterternary\":[{\"type\":\"scatterternary\",\"marker\":{\"colorbar\":{\"outlinewidth\":0,\"ticks\":\"\"}}}],\"scattercarpet\":[{\"type\":\"scattercarpet\",\"marker\":{\"colorbar\":{\"outlinewidth\":0,\"ticks\":\"\"}}}],\"carpet\":[{\"aaxis\":{\"endlinecolor\":\"#2a3f5f\",\"gridcolor\":\"white\",\"linecolor\":\"white\",\"minorgridcolor\":\"white\",\"startlinecolor\":\"#2a3f5f\"},\"baxis\":{\"endlinecolor\":\"#2a3f5f\",\"gridcolor\":\"white\",\"linecolor\":\"white\",\"minorgridcolor\":\"white\",\"startlinecolor\":\"#2a3f5f\"},\"type\":\"carpet\"}],\"table\":[{\"cells\":{\"fill\":{\"color\":\"#EBF0F8\"},\"line\":{\"color\":\"white\"}},\"header\":{\"fill\":{\"color\":\"#C8D4E3\"},\"line\":{\"color\":\"white\"}},\"type\":\"table\"}],\"barpolar\":[{\"marker\":{\"line\":{\"color\":\"#E5ECF6\",\"width\":0.5},\"pattern\":{\"fillmode\":\"overlay\",\"size\":10,\"solidity\":0.2}},\"type\":\"barpolar\"}],\"pie\":[{\"automargin\":true,\"type\":\"pie\"}]},\"layout\":{\"autotypenumbers\":\"strict\",\"colorway\":[\"#636efa\",\"#EF553B\",\"#00cc96\",\"#ab63fa\",\"#FFA15A\",\"#19d3f3\",\"#FF6692\",\"#B6E880\",\"#FF97FF\",\"#FECB52\"],\"font\":{\"color\":\"#2a3f5f\"},\"hovermode\":\"closest\",\"hoverlabel\":{\"align\":\"left\"},\"paper_bgcolor\":\"white\",\"plot_bgcolor\":\"#E5ECF6\",\"polar\":{\"bgcolor\":\"#E5ECF6\",\"angularaxis\":{\"gridcolor\":\"white\",\"linecolor\":\"white\",\"ticks\":\"\"},\"radialaxis\":{\"gridcolor\":\"white\",\"linecolor\":\"white\",\"ticks\":\"\"}},\"ternary\":{\"bgcolor\":\"#E5ECF6\",\"aaxis\":{\"gridcolor\":\"white\",\"linecolor\":\"white\",\"ticks\":\"\"},\"baxis\":{\"gridcolor\":\"white\",\"linecolor\":\"white\",\"ticks\":\"\"},\"caxis\":{\"gridcolor\":\"white\",\"linecolor\":\"white\",\"ticks\":\"\"}},\"coloraxis\":{\"colorbar\":{\"outlinewidth\":0,\"ticks\":\"\"}},\"colorscale\":{\"sequential\":[[0.0,\"#0d0887\"],[0.1111111111111111,\"#46039f\"],[0.2222222222222222,\"#7201a8\"],[0.3333333333333333,\"#9c179e\"],[0.4444444444444444,\"#bd3786\"],[0.5555555555555556,\"#d8576b\"],[0.6666666666666666,\"#ed7953\"],[0.7777777777777778,\"#fb9f3a\"],[0.8888888888888888,\"#fdca26\"],[1.0,\"#f0f921\"]],\"sequentialminus\":[[0.0,\"#0d0887\"],[0.1111111111111111,\"#46039f\"],[0.2222222222222222,\"#7201a8\"],[0.3333333333333333,\"#9c179e\"],[0.4444444444444444,\"#bd3786\"],[0.5555555555555556,\"#d8576b\"],[0.6666666666666666,\"#ed7953\"],[0.7777777777777778,\"#fb9f3a\"],[0.8888888888888888,\"#fdca26\"],[1.0,\"#f0f921\"]],\"diverging\":[[0,\"#8e0152\"],[0.1,\"#c51b7d\"],[0.2,\"#de77ae\"],[0.3,\"#f1b6da\"],[0.4,\"#fde0ef\"],[0.5,\"#f7f7f7\"],[0.6,\"#e6f5d0\"],[0.7,\"#b8e186\"],[0.8,\"#7fbc41\"],[0.9,\"#4d9221\"],[1,\"#276419\"]]},\"xaxis\":{\"gridcolor\":\"white\",\"linecolor\":\"white\",\"ticks\":\"\",\"title\":{\"standoff\":15},\"zerolinecolor\":\"white\",\"automargin\":true,\"zerolinewidth\":2},\"yaxis\":{\"gridcolor\":\"white\",\"linecolor\":\"white\",\"ticks\":\"\",\"title\":{\"standoff\":15},\"zerolinecolor\":\"white\",\"automargin\":true,\"zerolinewidth\":2},\"scene\":{\"xaxis\":{\"backgroundcolor\":\"#E5ECF6\",\"gridcolor\":\"white\",\"linecolor\":\"white\",\"showbackground\":true,\"ticks\":\"\",\"zerolinecolor\":\"white\",\"gridwidth\":2},\"yaxis\":{\"backgroundcolor\":\"#E5ECF6\",\"gridcolor\":\"white\",\"linecolor\":\"white\",\"showbackground\":true,\"ticks\":\"\",\"zerolinecolor\":\"white\",\"gridwidth\":2},\"zaxis\":{\"backgroundcolor\":\"#E5ECF6\",\"gridcolor\":\"white\",\"linecolor\":\"white\",\"showbackground\":true,\"ticks\":\"\",\"zerolinecolor\":\"white\",\"gridwidth\":2}},\"shapedefaults\":{\"line\":{\"color\":\"#2a3f5f\"}},\"annotationdefaults\":{\"arrowcolor\":\"#2a3f5f\",\"arrowhead\":0,\"arrowwidth\":1},\"geo\":{\"bgcolor\":\"white\",\"landcolor\":\"#E5ECF6\",\"subunitcolor\":\"white\",\"showland\":true,\"showlakes\":true,\"lakecolor\":\"white\"},\"title\":{\"x\":0.05},\"mapbox\":{\"style\":\"light\"}}},\"title\":{\"text\":\"Melhores 20 Atributos\"},\"height\":500,\"showlegend\":false},                        {\"responsive\": true}                    ).then(function(){\n",
              "                            \n",
              "var gd = document.getElementById('88d5c6ac-eb9d-445f-a8bd-c1503aef19fb');\n",
              "var x = new MutationObserver(function (mutations, observer) {{\n",
              "        var display = window.getComputedStyle(gd).display;\n",
              "        if (!display || display === 'none') {{\n",
              "            console.log([gd, 'removed!']);\n",
              "            Plotly.purge(gd);\n",
              "            observer.disconnect();\n",
              "        }}\n",
              "}});\n",
              "\n",
              "// Listen for the removal of the full notebook cells\n",
              "var notebookContainer = gd.closest('#notebook-container');\n",
              "if (notebookContainer) {{\n",
              "    x.observe(notebookContainer, {childList: true});\n",
              "}}\n",
              "\n",
              "// Listen for the clearing of the current output cell\n",
              "var outputEl = gd.closest('.output');\n",
              "if (outputEl) {{\n",
              "    x.observe(outputEl, {childList: true});\n",
              "}}\n",
              "\n",
              "                        })                };                            </script>        </div>\n",
              "</body>\n",
              "</html>"
            ]
          },
          "metadata": {}
        }
      ]
    },
    {
      "cell_type": "markdown",
      "source": [
        "# Seleção de Features"
      ],
      "metadata": {
        "id": "x-u_g4exCmXG"
      }
    },
    {
      "cell_type": "code",
      "source": [
        "# awesome bit of code from https://www.kaggle.com/code/adibouayjan/house-price-step-by-step-modeling\n",
        "\n",
        "Selected_Features = []\n",
        "import statsmodels.api as sm\n",
        "\n",
        "def backward_regression(X, y, initial_list=[], threshold_out=0.05, verbose=True):\n",
        "    \"\"\"To select feature with Backward Stepwise Regression\n",
        "\n",
        "    Args:\n",
        "        X -- features values\n",
        "        y -- target variable\n",
        "        initial_list -- features header\n",
        "        threshold_out -- pvalue threshold of features to drop\n",
        "        verbose -- true to produce lots of logging output\n",
        "\n",
        "    Returns:\n",
        "        list of selected features for modeling\n",
        "    \"\"\"\n",
        "    included = list(X.columns)\n",
        "    while True:\n",
        "        changed = False\n",
        "        model = sm.OLS(y, sm.add_constant(pd.DataFrame(X[included]))).fit()\n",
        "        # use all coefs except intercept\n",
        "        pvalues = model.pvalues.iloc[1:]\n",
        "        worst_pval = pvalues.max()  # null if pvalues is empty\n",
        "        if worst_pval > threshold_out:\n",
        "            changed = True\n",
        "            worst_feature = pvalues.idxmax()\n",
        "            included.remove(worst_feature)\n",
        "            if verbose:\n",
        "                print(f\"worst_feature : {worst_feature}, {worst_pval} \")\n",
        "        if not changed:\n",
        "            break\n",
        "    Selected_Features.append(included)\n",
        "    print(f\"\\nSelected Features:\\n{Selected_Features[0]}\")\n",
        "    return Selected_Features\n",
        "\n",
        "# Application of the backward regression function on our training data\n",
        "sel = backward_regression(X, y)"
      ],
      "metadata": {
        "colab": {
          "base_uri": "https://localhost:8080/"
        },
        "id": "ViS08gmNFr_C",
        "outputId": "751ab2c1-47ad-4ba9-b77a-adb9c04d82a0"
      },
      "execution_count": 15,
      "outputs": [
        {
          "output_type": "stream",
          "name": "stdout",
          "text": [
            "worst_feature : Temperature wear, 0.5378922848566206 \n",
            "worst_feature : Type_M, 0.4320074140942137 \n",
            "worst_feature : Torque power, 0.122213001228914 \n",
            "\n",
            "Selected Features:\n",
            "['Air temperature [K]', 'Process temperature [K]', 'Rotational speed [rpm]', 'Torque [Nm]', 'Tool wear [min]', 'Power', 'Power wear', 'Temperature difference', 'Temperature power', 'Temperature torque', 'Type_L']\n"
          ]
        }
      ]
    },
    {
      "cell_type": "code",
      "source": [
        "from sklearn.feature_selection import SelectKBest\n",
        "from sklearn.feature_selection import f_classif, mutual_info_classif\n",
        "\n",
        "f_classif = SelectKBest(score_func= f_classif, k = 'all')\n",
        "fit = f_classif.fit(X.values,y)"
      ],
      "metadata": {
        "id": "j0n6g3csK5ld"
      },
      "execution_count": 16,
      "outputs": []
    },
    {
      "cell_type": "code",
      "source": [
        "cols = fit.get_support(indices = True)\n",
        "sel_columns = X.iloc[:,cols].columns\n",
        "print(sel_columns)"
      ],
      "metadata": {
        "colab": {
          "base_uri": "https://localhost:8080/"
        },
        "id": "1NS5zDEKLKo9",
        "outputId": "48a09588-f1fb-4c57-b102-10943108cb20"
      },
      "execution_count": 17,
      "outputs": [
        {
          "output_type": "stream",
          "name": "stdout",
          "text": [
            "Index(['Air temperature [K]', 'Process temperature [K]',\n",
            "       'Rotational speed [rpm]', 'Torque [Nm]', 'Tool wear [min]', 'Power',\n",
            "       'Power wear', 'Temperature difference', 'Temperature power',\n",
            "       'Temperature wear', 'Temperature torque', 'Torque power', 'Type_L',\n",
            "       'Type_M'],\n",
            "      dtype='object')\n"
          ]
        }
      ]
    },
    {
      "cell_type": "code",
      "source": [
        "import numpy as np\n",
        "from sklearn.feature_selection import SelectKBest\n",
        "from sklearn.feature_selection import f_classif\n",
        "\n",
        "selector = SelectKBest(score_func=f_classif, k='all')\n",
        "selector.fit(X.values, y)\n",
        "\n",
        "scores = selector.scores_\n",
        "indices = np.argsort(scores)[::-1]  # Obter os índices das features ordenados pelo score em ordem decrescente\n",
        "\n",
        "ranking = []\n",
        "for i in indices:\n",
        "    ranking.append(X.columns[i])\n",
        "\n",
        "print(\"Ranking das features:\")\n",
        "for rank, feature in enumerate(ranking, start=1):\n",
        "    print(f\"{rank}. {feature}\")"
      ],
      "metadata": {
        "id": "vREZ_RaEsvYO",
        "outputId": "1eb63ee8-543d-45b6-98f4-d1832f244fb1",
        "colab": {
          "base_uri": "https://localhost:8080/"
        }
      },
      "execution_count": 18,
      "outputs": [
        {
          "output_type": "stream",
          "name": "stdout",
          "text": [
            "Ranking das features:\n",
            "1. Power wear\n",
            "2. Temperature torque\n",
            "3. Torque [Nm]\n",
            "4. Power\n",
            "5. Temperature power\n",
            "6. Rotational speed [rpm]\n",
            "7. Torque power\n",
            "8. Tool wear [min]\n",
            "9. Temperature wear\n",
            "10. Temperature difference\n",
            "11. Air temperature [K]\n",
            "12. Type_L\n",
            "13. Process temperature [K]\n",
            "14. Type_M\n"
          ]
        }
      ]
    },
    {
      "cell_type": "code",
      "source": [
        "X = df.drop('Machine failure',axis =1 ) # features\n",
        "y = df['Machine failure'] # alvo\n",
        "X=X[sel_columns]\n",
        "X.head()"
      ],
      "metadata": {
        "colab": {
          "base_uri": "https://localhost:8080/",
          "height": 285
        },
        "id": "u4wP_EHHGBit",
        "outputId": "020fabe0-5045-4487-ab31-dbb31541065e"
      },
      "execution_count": 19,
      "outputs": [
        {
          "output_type": "execute_result",
          "data": {
            "text/plain": [
              "   Air temperature [K]  Process temperature [K]  Rotational speed [rpm]  \\\n",
              "0                298.1                    308.6                  1551.0   \n",
              "1                298.2                    308.7                  1408.0   \n",
              "2                298.1                    308.5                  1498.0   \n",
              "3                298.2                    308.6                  1433.0   \n",
              "4                298.2                    308.7                  1408.0   \n",
              "\n",
              "   Torque [Nm]  Tool wear [min]    Power  Power wear  Temperature difference  \\\n",
              "0         42.8              0.0  66382.8         0.0                    10.5   \n",
              "1         46.3              3.0  65190.4    195571.2                    10.5   \n",
              "2         49.4              5.0  74001.2    370006.0                    10.4   \n",
              "3         39.5              7.0  56603.5    396224.5                    10.4   \n",
              "4         40.0              9.0  56320.0    506880.0                    10.5   \n",
              "\n",
              "   Temperature power  Temperature wear  Temperature torque  Torque power  \\\n",
              "0           0.000158               0.0            0.245327      0.000645   \n",
              "1           0.000161              31.5            0.226782      0.000710   \n",
              "2           0.000141              52.0            0.210526      0.000668   \n",
              "3           0.000184              72.8            0.263291      0.000698   \n",
              "4           0.000186              94.5            0.262500      0.000710   \n",
              "\n",
              "   Type_L  Type_M  \n",
              "0       0       1  \n",
              "1       1       0  \n",
              "2       1       0  \n",
              "3       1       0  \n",
              "4       1       0  "
            ],
            "text/html": [
              "\n",
              "  <div id=\"df-fda03880-4a2b-491c-90fd-d42fbbd5d086\">\n",
              "    <div class=\"colab-df-container\">\n",
              "      <div>\n",
              "<style scoped>\n",
              "    .dataframe tbody tr th:only-of-type {\n",
              "        vertical-align: middle;\n",
              "    }\n",
              "\n",
              "    .dataframe tbody tr th {\n",
              "        vertical-align: top;\n",
              "    }\n",
              "\n",
              "    .dataframe thead th {\n",
              "        text-align: right;\n",
              "    }\n",
              "</style>\n",
              "<table border=\"1\" class=\"dataframe\">\n",
              "  <thead>\n",
              "    <tr style=\"text-align: right;\">\n",
              "      <th></th>\n",
              "      <th>Air temperature [K]</th>\n",
              "      <th>Process temperature [K]</th>\n",
              "      <th>Rotational speed [rpm]</th>\n",
              "      <th>Torque [Nm]</th>\n",
              "      <th>Tool wear [min]</th>\n",
              "      <th>Power</th>\n",
              "      <th>Power wear</th>\n",
              "      <th>Temperature difference</th>\n",
              "      <th>Temperature power</th>\n",
              "      <th>Temperature wear</th>\n",
              "      <th>Temperature torque</th>\n",
              "      <th>Torque power</th>\n",
              "      <th>Type_L</th>\n",
              "      <th>Type_M</th>\n",
              "    </tr>\n",
              "  </thead>\n",
              "  <tbody>\n",
              "    <tr>\n",
              "      <th>0</th>\n",
              "      <td>298.1</td>\n",
              "      <td>308.6</td>\n",
              "      <td>1551.0</td>\n",
              "      <td>42.8</td>\n",
              "      <td>0.0</td>\n",
              "      <td>66382.8</td>\n",
              "      <td>0.0</td>\n",
              "      <td>10.5</td>\n",
              "      <td>0.000158</td>\n",
              "      <td>0.0</td>\n",
              "      <td>0.245327</td>\n",
              "      <td>0.000645</td>\n",
              "      <td>0</td>\n",
              "      <td>1</td>\n",
              "    </tr>\n",
              "    <tr>\n",
              "      <th>1</th>\n",
              "      <td>298.2</td>\n",
              "      <td>308.7</td>\n",
              "      <td>1408.0</td>\n",
              "      <td>46.3</td>\n",
              "      <td>3.0</td>\n",
              "      <td>65190.4</td>\n",
              "      <td>195571.2</td>\n",
              "      <td>10.5</td>\n",
              "      <td>0.000161</td>\n",
              "      <td>31.5</td>\n",
              "      <td>0.226782</td>\n",
              "      <td>0.000710</td>\n",
              "      <td>1</td>\n",
              "      <td>0</td>\n",
              "    </tr>\n",
              "    <tr>\n",
              "      <th>2</th>\n",
              "      <td>298.1</td>\n",
              "      <td>308.5</td>\n",
              "      <td>1498.0</td>\n",
              "      <td>49.4</td>\n",
              "      <td>5.0</td>\n",
              "      <td>74001.2</td>\n",
              "      <td>370006.0</td>\n",
              "      <td>10.4</td>\n",
              "      <td>0.000141</td>\n",
              "      <td>52.0</td>\n",
              "      <td>0.210526</td>\n",
              "      <td>0.000668</td>\n",
              "      <td>1</td>\n",
              "      <td>0</td>\n",
              "    </tr>\n",
              "    <tr>\n",
              "      <th>3</th>\n",
              "      <td>298.2</td>\n",
              "      <td>308.6</td>\n",
              "      <td>1433.0</td>\n",
              "      <td>39.5</td>\n",
              "      <td>7.0</td>\n",
              "      <td>56603.5</td>\n",
              "      <td>396224.5</td>\n",
              "      <td>10.4</td>\n",
              "      <td>0.000184</td>\n",
              "      <td>72.8</td>\n",
              "      <td>0.263291</td>\n",
              "      <td>0.000698</td>\n",
              "      <td>1</td>\n",
              "      <td>0</td>\n",
              "    </tr>\n",
              "    <tr>\n",
              "      <th>4</th>\n",
              "      <td>298.2</td>\n",
              "      <td>308.7</td>\n",
              "      <td>1408.0</td>\n",
              "      <td>40.0</td>\n",
              "      <td>9.0</td>\n",
              "      <td>56320.0</td>\n",
              "      <td>506880.0</td>\n",
              "      <td>10.5</td>\n",
              "      <td>0.000186</td>\n",
              "      <td>94.5</td>\n",
              "      <td>0.262500</td>\n",
              "      <td>0.000710</td>\n",
              "      <td>1</td>\n",
              "      <td>0</td>\n",
              "    </tr>\n",
              "  </tbody>\n",
              "</table>\n",
              "</div>\n",
              "      <button class=\"colab-df-convert\" onclick=\"convertToInteractive('df-fda03880-4a2b-491c-90fd-d42fbbd5d086')\"\n",
              "              title=\"Convert this dataframe to an interactive table.\"\n",
              "              style=\"display:none;\">\n",
              "        \n",
              "  <svg xmlns=\"http://www.w3.org/2000/svg\" height=\"24px\"viewBox=\"0 0 24 24\"\n",
              "       width=\"24px\">\n",
              "    <path d=\"M0 0h24v24H0V0z\" fill=\"none\"/>\n",
              "    <path d=\"M18.56 5.44l.94 2.06.94-2.06 2.06-.94-2.06-.94-.94-2.06-.94 2.06-2.06.94zm-11 1L8.5 8.5l.94-2.06 2.06-.94-2.06-.94L8.5 2.5l-.94 2.06-2.06.94zm10 10l.94 2.06.94-2.06 2.06-.94-2.06-.94-.94-2.06-.94 2.06-2.06.94z\"/><path d=\"M17.41 7.96l-1.37-1.37c-.4-.4-.92-.59-1.43-.59-.52 0-1.04.2-1.43.59L10.3 9.45l-7.72 7.72c-.78.78-.78 2.05 0 2.83L4 21.41c.39.39.9.59 1.41.59.51 0 1.02-.2 1.41-.59l7.78-7.78 2.81-2.81c.8-.78.8-2.07 0-2.86zM5.41 20L4 18.59l7.72-7.72 1.47 1.35L5.41 20z\"/>\n",
              "  </svg>\n",
              "      </button>\n",
              "      \n",
              "  <style>\n",
              "    .colab-df-container {\n",
              "      display:flex;\n",
              "      flex-wrap:wrap;\n",
              "      gap: 12px;\n",
              "    }\n",
              "\n",
              "    .colab-df-convert {\n",
              "      background-color: #E8F0FE;\n",
              "      border: none;\n",
              "      border-radius: 50%;\n",
              "      cursor: pointer;\n",
              "      display: none;\n",
              "      fill: #1967D2;\n",
              "      height: 32px;\n",
              "      padding: 0 0 0 0;\n",
              "      width: 32px;\n",
              "    }\n",
              "\n",
              "    .colab-df-convert:hover {\n",
              "      background-color: #E2EBFA;\n",
              "      box-shadow: 0px 1px 2px rgba(60, 64, 67, 0.3), 0px 1px 3px 1px rgba(60, 64, 67, 0.15);\n",
              "      fill: #174EA6;\n",
              "    }\n",
              "\n",
              "    [theme=dark] .colab-df-convert {\n",
              "      background-color: #3B4455;\n",
              "      fill: #D2E3FC;\n",
              "    }\n",
              "\n",
              "    [theme=dark] .colab-df-convert:hover {\n",
              "      background-color: #434B5C;\n",
              "      box-shadow: 0px 1px 3px 1px rgba(0, 0, 0, 0.15);\n",
              "      filter: drop-shadow(0px 1px 2px rgba(0, 0, 0, 0.3));\n",
              "      fill: #FFFFFF;\n",
              "    }\n",
              "  </style>\n",
              "\n",
              "      <script>\n",
              "        const buttonEl =\n",
              "          document.querySelector('#df-fda03880-4a2b-491c-90fd-d42fbbd5d086 button.colab-df-convert');\n",
              "        buttonEl.style.display =\n",
              "          google.colab.kernel.accessAllowed ? 'block' : 'none';\n",
              "\n",
              "        async function convertToInteractive(key) {\n",
              "          const element = document.querySelector('#df-fda03880-4a2b-491c-90fd-d42fbbd5d086');\n",
              "          const dataTable =\n",
              "            await google.colab.kernel.invokeFunction('convertToInteractive',\n",
              "                                                     [key], {});\n",
              "          if (!dataTable) return;\n",
              "\n",
              "          const docLinkHtml = 'Like what you see? Visit the ' +\n",
              "            '<a target=\"_blank\" href=https://colab.research.google.com/notebooks/data_table.ipynb>data table notebook</a>'\n",
              "            + ' to learn more about interactive tables.';\n",
              "          element.innerHTML = '';\n",
              "          dataTable['output_type'] = 'display_data';\n",
              "          await google.colab.output.renderOutput(dataTable, element);\n",
              "          const docLink = document.createElement('div');\n",
              "          docLink.innerHTML = docLinkHtml;\n",
              "          element.appendChild(docLink);\n",
              "        }\n",
              "      </script>\n",
              "    </div>\n",
              "  </div>\n",
              "  "
            ]
          },
          "metadata": {},
          "execution_count": 19
        }
      ]
    },
    {
      "cell_type": "markdown",
      "source": [
        "#Metricas e preparação dos dados para os modelos"
      ],
      "metadata": {
        "id": "MpTnwGFaOH_f"
      }
    },
    {
      "cell_type": "markdown",
      "source": [
        "Há clusteres nos dados ?"
      ],
      "metadata": {
        "id": "TmWB72CDLFqB"
      }
    },
    {
      "cell_type": "code",
      "source": [
        "from random import sample\n",
        "from numpy.random import uniform\n",
        "from sklearn.neighbors import NearestNeighbors\n",
        "from sklearn.preprocessing import scale, normalize\n",
        "\n",
        "# function to compute hopkins's statistic for the dataframe X\n",
        "def hopkins_statistic(X,k=2):\n",
        "    try:\n",
        "        X=X.drop(['Type_L','Type_M'],axis = 1,inplace=True).values  #convert dataframe to a numpy array\n",
        "    except:\n",
        "        pass\n",
        "    # X = scale(X)\n",
        "    X = normalize(X)\n",
        "    sample_size = int(X.shape[0]*0.05) #0.05 (5%) based on paper by Lawson and Jures\n",
        "\n",
        "\n",
        "    #a uniform random sample in the original data space\n",
        "    X_uniform_random_sample = uniform(X.min(axis=0), X.max(axis=0) ,(sample_size , X.shape[1]))\n",
        "\n",
        "\n",
        "\n",
        "    #a random sample of size sample_size from the original data X\n",
        "    random_indices=sample(range(0, X.shape[0], 1), sample_size)\n",
        "    X_sample = X[random_indices]\n",
        "\n",
        "\n",
        "    #initialise unsupervised learner for implementing neighbor searches\n",
        "    neigh = NearestNeighbors(n_neighbors=k)\n",
        "    nbrs=neigh.fit(X)\n",
        "\n",
        "    #u_distances = nearest neighbour distances from uniform random sample\n",
        "    u_distances , u_indices = nbrs.kneighbors(X_uniform_random_sample , n_neighbors=k)\n",
        "    u_distances = u_distances[: , 0] #distance to the first (nearest) neighbour\n",
        "\n",
        "    #w_distances = nearest neighbour distances from a sample of points from original data X\n",
        "    w_distances , w_indices = nbrs.kneighbors(X_sample , n_neighbors=k)\n",
        "    #distance to the second nearest neighbour (as the first neighbour will be the point itself, with distance = 0)\n",
        "    w_distances = w_distances[: , 1]\n",
        "\n",
        "\n",
        "\n",
        "    u_sum = np.sum(u_distances)\n",
        "    w_sum = np.sum(w_distances)\n",
        "\n",
        "    #compute and return hopkins' statistic\n",
        "    H = u_sum/ (u_sum + w_sum)\n",
        "    return H\n",
        "\n",
        "H=hopkins_statistic(X,3)\n",
        "print('Hopkins statistic: '+str(H))"
      ],
      "metadata": {
        "colab": {
          "base_uri": "https://localhost:8080/"
        },
        "id": "SuHWLMNILDfg",
        "outputId": "6e5c7008-3638-49b2-99a4-4761f3bab1c9"
      },
      "execution_count": 20,
      "outputs": [
        {
          "output_type": "stream",
          "name": "stdout",
          "text": [
            "Hopkins statistic: 0.9999187282871279\n"
          ]
        }
      ]
    },
    {
      "cell_type": "markdown",
      "source": [
        "# Decidindo a tecnica de oversample"
      ],
      "metadata": {
        "id": "3PHzDAfD8xf8"
      }
    },
    {
      "cell_type": "markdown",
      "source": [
        "Os dados estão muito desequilibrados, portanto, normalmente fazemos oversampling. Mas também há muitos dados na classe normal, o que sugere uma utilização de um metodo de undersample. Como o valor da estatistica que diz que há clusteres nas classes deu alta temos uma direção de que o metodo de oversample não vai alterar significantemente as regiões dos dados."
      ],
      "metadata": {
        "id": "SIMEwzhcIGN9"
      }
    },
    {
      "cell_type": "code",
      "source": [
        "from imblearn.over_sampling import SMOTE\n",
        "from imblearn.under_sampling import TomekLinks\n",
        "from sklearn.model_selection import train_test_split\n",
        "from imblearn.over_sampling import BorderlineSMOTE\n",
        "from imblearn.over_sampling import ADASYN\n",
        "from imblearn.over_sampling import SVMSMOTE\n",
        "\n",
        "X_train, X_test, y_train, y_test = train_test_split(X, y,\n",
        "                                                    test_size = 0.2,\n",
        "                                                    random_state = 0,\n",
        "                                                    stratify=y)\n",
        "# Aplicando o SMOTE para fazer oversampling da classe minoritária\n",
        "\n",
        "smote = SMOTE(random_state=42)\n",
        "#smote = BorderlineSMOTE(random_state=42)\n",
        "#smote = ADASYN(random_state=42)\n",
        "#smote = SVMSMOTE(random_state=42)\n",
        "\n",
        "X_train, y_train = smote.fit_resample(X_train,y_train)\n",
        "\n",
        "\n",
        "# Aplicando o Tomek Links para fazer undersampling da classe majoritária\n",
        "tomek = TomekLinks()\n",
        "X_train, y_train = tomek.fit_resample(X_train, y_train)\n",
        "\n",
        "# não temos nenhum outlier significativo, então uma simples normalização já é o suficiente\n",
        "from sklearn.preprocessing import MinMaxScaler\n",
        "sc = MinMaxScaler()\n",
        "X_train = sc.fit_transform(X_train)\n",
        "X_test = sc.transform(X_test)"
      ],
      "metadata": {
        "id": "JbrQopJDGCt9"
      },
      "execution_count": 21,
      "outputs": []
    },
    {
      "cell_type": "code",
      "source": [
        "y_test.value_counts()"
      ],
      "metadata": {
        "colab": {
          "base_uri": "https://localhost:8080/"
        },
        "id": "VFOntNpa7wnu",
        "outputId": "bb6ca27e-d7ac-49f1-dab7-4abf6b3ba5d1"
      },
      "execution_count": 22,
      "outputs": [
        {
          "output_type": "execute_result",
          "data": {
            "text/plain": [
              "0    1931\n",
              "2      21\n",
              "4      20\n",
              "3      17\n",
              "1       8\n",
              "Name: Machine failure, dtype: int64"
            ]
          },
          "metadata": {},
          "execution_count": 22
        }
      ]
    },
    {
      "cell_type": "code",
      "source": [
        "from sklearn.metrics import f1_score, precision_score, recall_score, accuracy_score,roc_auc_score,matthews_corrcoef\n",
        "from sklearn.metrics import confusion_matrix # calcula a matriz de confusão\n",
        "\n",
        "import time\n",
        "model_performance = pd.DataFrame(columns=['Accuracy','Recall','Precision','F1-Score','MCC score','time to train','time to predict','total time'])"
      ],
      "metadata": {
        "id": "sRk1cDjjITGP"
      },
      "execution_count": 23,
      "outputs": []
    },
    {
      "cell_type": "markdown",
      "source": [
        "#Criação dos Modelos"
      ],
      "metadata": {
        "id": "i9KKsQAcOOAV"
      }
    },
    {
      "cell_type": "markdown",
      "source": [
        "##KNN"
      ],
      "metadata": {
        "id": "gmoD2z14OvCd"
      }
    },
    {
      "cell_type": "markdown",
      "source": [
        "Seleçao de hiperprametros"
      ],
      "metadata": {
        "id": "w-tDDLTIb6oF"
      }
    },
    {
      "cell_type": "code",
      "source": [
        "from sklearn.model_selection import GridSearchCV\n",
        "from sklearn.neighbors import KNeighborsClassifier\n",
        "\n",
        "# Defina os parâmetros que deseja testar\n",
        "param_grid = {'n_neighbors': [3, 5, 7], 'weights': ['uniform', 'distance']}\n",
        "\n",
        "# Crie uma instância do modelo KNeighborsClassifier\n",
        "knn = KNeighborsClassifier()\n",
        "\n",
        "# Crie uma instância do GridSearchCV\n",
        "grid_search = GridSearchCV(knn, param_grid)\n",
        "\n",
        "# Ajuste o modelo usando o conjunto de treinamento\n",
        "grid_search.fit(X_train, y_train)\n",
        "\n",
        "# Obtenha os melhores parâmetros encontrados\n",
        "best_params = grid_search.best_params_\n",
        "print(\"Melhores parâmetros encontrados:\", best_params)\n"
      ],
      "metadata": {
        "colab": {
          "base_uri": "https://localhost:8080/"
        },
        "id": "pCf0neeMbulc",
        "outputId": "a8792eaa-4673-450d-fe15-94234ff77674"
      },
      "execution_count": 26,
      "outputs": [
        {
          "output_type": "stream",
          "name": "stdout",
          "text": [
            "Melhores parâmetros encontrados: {'n_neighbors': 3, 'weights': 'distance'}\n"
          ]
        }
      ]
    },
    {
      "cell_type": "markdown",
      "source": [
        "Analise do desempenho do modelo"
      ],
      "metadata": {
        "id": "2p5k1Usab-53"
      }
    },
    {
      "cell_type": "code",
      "source": [
        "from sklearn.neighbors import KNeighborsClassifier\n",
        "start = time.time()\n",
        "model = KNeighborsClassifier(n_neighbors=3, weights = 'distance').fit(X_train,y_train)\n",
        "end_train = time.time()\n",
        "y_predictions = model.predict(X_test) # These are the predictions from the test data.\n",
        "end_predict = time.time()"
      ],
      "metadata": {
        "id": "INBAiw5EI2Ep"
      },
      "execution_count": 27,
      "outputs": []
    },
    {
      "cell_type": "code",
      "source": [
        "accuracy = accuracy_score(y_test, y_predictions)\n",
        "recall = recall_score(y_test, y_predictions, average='weighted')\n",
        "precision = precision_score(y_test, y_predictions, average='weighted')\n",
        "f1s = f1_score(y_test, y_predictions, average='weighted')\n",
        "MCC = matthews_corrcoef(y_test, y_predictions)\n",
        "# ROC_AUC = roc_auc_score(y_test, y_predictions, average='weighted')\n",
        "# ROC_AUC = roc_auc_score(y_test, model.predict_proba(X_test)[:,1], average='weighted')\n",
        "\n",
        "print(\"Accuracy: \"+ \"{:.2%}\".format(accuracy))\n",
        "print(\"Recall: \"+ \"{:.2%}\".format(recall))\n",
        "print(\"Precision: \"+ \"{:.2%}\".format(precision))\n",
        "print(\"F1-Score: \"+ \"{:.2%}\".format(f1s))\n",
        "print(\"MCC: \"+ \"{:.2%}\".format(MCC))\n",
        "# print(\"ROC AUC score: \"+ \"{:.2%}\".format(ROC_AUC))\n",
        "print(\"time to train: \"+ \"{:.2f}\".format(end_train-start)+\"s\")\n",
        "print(\"time to predict: \"+\"{:.2f}\".format(end_predict-end_train)+\"s\")\n",
        "print(\"total: \"+\"{:.2f}\".format(end_predict-start)+\" s\")\n",
        "model_performance.loc['KNN'] = [accuracy, recall, precision, f1s,MCC,end_train-start,end_predict-end_train,end_predict-start]"
      ],
      "metadata": {
        "colab": {
          "base_uri": "https://localhost:8080/"
        },
        "id": "YpCzM8AFJDP0",
        "outputId": "f02d2b33-4ed6-41e6-c202-393eb1ea4157"
      },
      "execution_count": 28,
      "outputs": [
        {
          "output_type": "stream",
          "name": "stdout",
          "text": [
            "Accuracy: 94.24%\n",
            "Recall: 94.24%\n",
            "Precision: 97.62%\n",
            "F1-Score: 95.60%\n",
            "MCC: 53.36%\n",
            "time to train: 0.25s\n",
            "time to predict: 0.15s\n",
            "total: 0.40 s\n"
          ]
        }
      ]
    },
    {
      "cell_type": "code",
      "source": [
        "# Calcula a matriz de confusão\n",
        "cm = confusion_matrix(y_test, y_predictions)\n",
        "\n",
        "# Define as classes (rótulos)\n",
        "classes = ['Norm', '1','2','3','4']\n",
        "\n",
        "# Plota a matriz de confusão\n",
        "plt.imshow(cm, interpolation='nearest', cmap=plt.cm.Blues)\n",
        "plt.title('Matriz de Confusão')\n",
        "plt.colorbar()\n",
        "ticks = np.arange(len(classes))\n",
        "plt.xticks(ticks, classes, rotation=45)\n",
        "plt.yticks(ticks, classes)\n",
        "\n",
        "# Adiciona os valores nas células da matriz\n",
        "thresh = cm.max() / 2.\n",
        "for i in range(cm.shape[0]):\n",
        "    for j in range(cm.shape[1]):\n",
        "        plt.text(j, i, format(cm[i, j], 'd'),\n",
        "                 horizontalalignment=\"center\",\n",
        "                 color=\"white\" if cm[i, j] > thresh else \"black\")\n",
        "\n",
        "plt.tight_layout()\n",
        "plt.ylabel('Rótulo Verdadeiro')\n",
        "plt.xlabel('Rótulo Previsto')\n",
        "plt.show()"
      ],
      "metadata": {
        "colab": {
          "base_uri": "https://localhost:8080/",
          "height": 419
        },
        "id": "kbUjLZ4qQgUH",
        "outputId": "42b7fb80-999d-41a3-c692-617935df4286"
      },
      "execution_count": 29,
      "outputs": [
        {
          "output_type": "display_data",
          "data": {
            "text/plain": [
              "<Figure size 1200x400 with 2 Axes>"
            ],
            "image/png": "[encoded data removed]"
          },
          "metadata": {}
        }
      ]
    },
    {
      "cell_type": "code",
      "source": [
        "from sklearn.metrics import classification_report\n",
        "\n",
        "print(classification_report(y_test, y_predictions))"
      ],
      "metadata": {
        "colab": {
          "base_uri": "https://localhost:8080/"
        },
        "id": "F5uLIW4lRi6u",
        "outputId": "a964587b-d30d-47ad-ad2c-c5f340b2a1c0"
      },
      "execution_count": 30,
      "outputs": [
        {
          "output_type": "stream",
          "name": "stdout",
          "text": [
            "              precision    recall  f1-score   support\n",
            "\n",
            "           0       1.00      0.95      0.97      1931\n",
            "           1       0.10      0.62      0.17         8\n",
            "           2       0.46      0.86      0.60        21\n",
            "           3       0.36      0.76      0.49        17\n",
            "           4       0.51      0.95      0.67        20\n",
            "\n",
            "    accuracy                           0.94      1997\n",
            "   macro avg       0.49      0.83      0.58      1997\n",
            "weighted avg       0.98      0.94      0.96      1997\n",
            "\n"
          ]
        }
      ]
    },
    {
      "cell_type": "markdown",
      "source": [
        "##Decision Tree"
      ],
      "metadata": {
        "id": "jaSqfPgfOxUn"
      }
    },
    {
      "cell_type": "markdown",
      "source": [
        "Seleção de hiperparâmetros"
      ],
      "metadata": {
        "id": "RlehQBAWcs59"
      }
    },
    {
      "cell_type": "code",
      "source": [
        "from sklearn.model_selection import GridSearchCV\n",
        "from sklearn.tree import DecisionTreeClassifier\n",
        "\n",
        "# Defina os parâmetros que deseja testar\n",
        "param_grid = {'criterion': ['gini', 'entropy'],\n",
        "              'max_depth': [None, 5, 10, 20],\n",
        "              'min_samples_split': [2, 5, 10],\n",
        "              'min_samples_leaf': [1, 2, 4]}\n",
        "\n",
        "# Crie uma instância do modelo DecisionTreeClassifier\n",
        "dt = DecisionTreeClassifier()\n",
        "\n",
        "# Crie uma instância do GridSearchCV\n",
        "grid_search = GridSearchCV(dt, param_grid)\n",
        "\n",
        "# Ajuste o modelo usando o conjunto de treinamento\n",
        "grid_search.fit(X_train, y_train)\n",
        "\n",
        "# Obtenha os melhores parâmetros encontrados\n",
        "best_params = grid_search.best_params_\n",
        "print(\"Melhores parâmetros encontrados:\", best_params)"
      ],
      "metadata": {
        "colab": {
          "base_uri": "https://localhost:8080/"
        },
        "id": "hvMXxmIacsP5",
        "outputId": "95116690-1880-4ba6-cc7a-4c68f8271a1c"
      },
      "execution_count": 32,
      "outputs": [
        {
          "output_type": "stream",
          "name": "stdout",
          "text": [
            "Melhores parâmetros encontrados: {'criterion': 'entropy', 'max_depth': None, 'min_samples_leaf': 1, 'min_samples_split': 2}\n"
          ]
        }
      ]
    },
    {
      "cell_type": "markdown",
      "source": [
        "Analisando o desempenho do modelo"
      ],
      "metadata": {
        "id": "CwgkmMt7dAYY"
      }
    },
    {
      "cell_type": "code",
      "source": [
        "from sklearn.tree import DecisionTreeClassifier\n",
        "start = time.time()\n",
        "model = DecisionTreeClassifier(criterion = 'entropy', max_depth = None, min_samples_leaf = 1, min_samples_split = 2).fit(X_train,y_train)\n",
        "end_train = time.time()\n",
        "y_predictions = model.predict(X_test) # These are the predictions from the test data.\n",
        "end_predict = time.time()"
      ],
      "metadata": {
        "id": "DUwmLcMFJYTH"
      },
      "execution_count": null,
      "outputs": []
    },
    {
      "cell_type": "code",
      "source": [
        "accuracy = accuracy_score(y_test, y_predictions)\n",
        "recall = recall_score(y_test, y_predictions, average='weighted')\n",
        "precision = precision_score(y_test, y_predictions, average='weighted')\n",
        "f1s = f1_score(y_test, y_predictions, average='weighted')\n",
        "MCC = matthews_corrcoef(y_test, y_predictions)\n",
        "# ROC_AUC = roc_auc_score(y_test, y_predictions, average='weighted')\n",
        "# ROC_AUC = roc_auc_score(y_test, model.predict_proba(X_test)[:,1], average='weighted')\n",
        "\n",
        "print(\"Accuracy: \"+ \"{:.2%}\".format(accuracy))\n",
        "print(\"Recall: \"+ \"{:.2%}\".format(recall))\n",
        "print(\"Precision: \"+ \"{:.2%}\".format(precision))\n",
        "print(\"F1-Score: \"+ \"{:.2%}\".format(f1s))\n",
        "print(\"MCC: \"+ \"{:.2%}\".format(MCC))\n",
        "# print(\"ROC AUC score: \"+ \"{:.2%}\".format(ROC_AUC))\n",
        "print(\"time to train: \"+ \"{:.2f}\".format(end_train-start)+\" s\")\n",
        "print(\"time to predict: \"+\"{:.2f}\".format(end_predict-end_train)+\" s\")\n",
        "print(\"total: \"+\"{:.2f}\".format(end_predict-start)+\" s\")\n",
        "model_performance.loc['Decision Tree'] = [accuracy, recall, precision, f1s,MCC,end_train-start,end_predict-end_train,end_predict-start]"
      ],
      "metadata": {
        "id": "8yKmMC6uPzNx"
      },
      "execution_count": null,
      "outputs": []
    },
    {
      "cell_type": "code",
      "source": [
        "# Calcula a matriz de confusão\n",
        "cm = confusion_matrix(y_test, y_predictions)\n",
        "\n",
        "# Define as classes (rótulos)\n",
        "classes = ['Norm', '1','2','3','4']\n",
        "\n",
        "# Plota a matriz de confusão\n",
        "plt.imshow(cm, interpolation='nearest', cmap=plt.cm.Blues)\n",
        "plt.title('Matriz de Confusão')\n",
        "plt.colorbar()\n",
        "ticks = np.arange(len(classes))\n",
        "plt.xticks(ticks, classes, rotation=45)\n",
        "plt.yticks(ticks, classes)\n",
        "\n",
        "# Adiciona os valores nas células da matriz\n",
        "thresh = cm.max() / 2.\n",
        "for i in range(cm.shape[0]):\n",
        "    for j in range(cm.shape[1]):\n",
        "        plt.text(j, i, format(cm[i, j], 'd'),\n",
        "                 horizontalalignment=\"center\",\n",
        "                 color=\"white\" if cm[i, j] > thresh else \"black\")\n",
        "\n",
        "plt.tight_layout()\n",
        "plt.ylabel('Rótulo Verdadeiro')\n",
        "plt.xlabel('Rótulo Previsto')\n",
        "plt.show()"
      ],
      "metadata": {
        "id": "XS3h8RiFTBKV"
      },
      "execution_count": null,
      "outputs": []
    },
    {
      "cell_type": "code",
      "source": [
        "from sklearn.metrics import classification_report\n",
        "\n",
        "print(classification_report(y_test, y_predictions))"
      ],
      "metadata": {
        "id": "FO5ga37KTaHq"
      },
      "execution_count": null,
      "outputs": []
    },
    {
      "cell_type": "code",
      "source": [
        "plt.rcParams['figure.figsize']=10,10\n",
        "sns.set_style(\"white\")\n",
        "feature_names = list(X.columns)\n",
        "feat_importances = pd.Series(model.feature_importances_, index=feature_names)\n",
        "feat_importances = feat_importances.groupby(level=0).mean()\n",
        "feat_importances.nlargest(20).plot(kind='barh').invert_yaxis()\n",
        "sns.despine()\n",
        "plt.show()"
      ],
      "metadata": {
        "id": "m2kKmDkcTy3P"
      },
      "execution_count": null,
      "outputs": []
    },
    {
      "cell_type": "code",
      "source": [
        "from sklearn.metrics import classification_report\n",
        "\n",
        "print(classification_report(y_test, y_predictions))"
      ],
      "metadata": {
        "id": "SB6zbGDX7FY0"
      },
      "execution_count": null,
      "outputs": []
    },
    {
      "cell_type": "code",
      "source": [
        "#import graphviz\n",
        "#from sklearn import tree\n",
        "# DOT data\n",
        "#dot_data = tree.export_graphviz(model, out_file=None,\n",
        " #                               feature_names=X.columns,\n",
        " #                               class_names=['None','TWF','HDF','PWF','OSF','RNF'],\n",
        " #                               filled=True,\n",
        "#                                 size=\"5,5!\"                              )\n",
        "# Draw graph\n",
        "#graph = graphviz.Source(dot_data, format=\"png\")\n",
        "#graph"
      ],
      "metadata": {
        "id": "Gq7Xt-57UYVr"
      },
      "execution_count": null,
      "outputs": []
    },
    {
      "cell_type": "markdown",
      "source": [
        "## Random Forest"
      ],
      "metadata": {
        "id": "2yBKraNJTt9w"
      }
    },
    {
      "cell_type": "markdown",
      "source": [
        "Selção de Hiperparâmetros"
      ],
      "metadata": {
        "id": "V1IWEpfOdZSS"
      }
    },
    {
      "cell_type": "code",
      "source": [
        "from sklearn.model_selection import GridSearchCV\n",
        "from sklearn.ensemble import RandomForestClassifier\n",
        "\n",
        "# Defina os parâmetros que deseja testar\n",
        "param_grid = {\n",
        "    'n_estimators': [100, 200, 300],\n",
        "    'max_depth': [None, 5, 10],\n",
        "    'min_samples_split': [2, 5, 10],\n",
        "    'min_samples_leaf': [1, 2, 4],\n",
        "    'bootstrap': [True, False]\n",
        "}\n",
        "\n",
        "# Crie uma instância do modelo RandomForestClassifier\n",
        "rf = RandomForestClassifier(n_jobs=-1, random_state=0)\n",
        "\n",
        "# Crie uma instância do GridSearchCV\n",
        "grid_search = GridSearchCV(rf, param_grid)\n",
        "\n",
        "# Ajuste o modelo usando o conjunto de treinamento\n",
        "grid_search.fit(X_train, y_train)\n",
        "\n",
        "# Obtenha os melhores parâmetros encontrados\n",
        "best_params = grid_search.best_params_\n",
        "print(\"Melhores parâmetros encontrados:\", best_params)"
      ],
      "metadata": {
        "id": "jIhl3q_pdZ84"
      },
      "execution_count": null,
      "outputs": []
    },
    {
      "cell_type": "markdown",
      "source": [
        "Analisando o desempenho do modelo"
      ],
      "metadata": {
        "id": "Pkc02gXZdrPI"
      }
    },
    {
      "cell_type": "code",
      "source": [
        "from sklearn.ensemble import RandomForestClassifier\n",
        "start = time.time()\n",
        "model = RandomForestClassifier(n_estimators = 100,n_jobs=-1,random_state=0,bootstrap=True,).fit(X_train,y_train)\n",
        "end_train = time.time()\n",
        "y_predictions = model.predict(X_test) # These are the predictions from the test data.\n",
        "end_predict = time.time()"
      ],
      "metadata": {
        "id": "GnFQwJNXTdmA"
      },
      "execution_count": null,
      "outputs": []
    },
    {
      "cell_type": "code",
      "source": [
        "accuracy = accuracy_score(y_test, y_predictions)\n",
        "recall = recall_score(y_test, y_predictions, average='weighted')\n",
        "precision = precision_score(y_test, y_predictions, average='weighted')\n",
        "f1s = f1_score(y_test, y_predictions, average='weighted')\n",
        "MCC = matthews_corrcoef(y_test, y_predictions)\n",
        "# ROC_AUC = roc_auc_score(y_test, y_predictions, average='weighted')\n",
        "# ROC_AUC = roc_auc_score(y_test, model.predict_proba(X_test)[:,1], average='weighted')\n",
        "\n",
        "print(\"Accuracy: \"+ \"{:.2%}\".format(accuracy))\n",
        "print(\"Recall: \"+ \"{:.2%}\".format(recall))\n",
        "print(\"Precision: \"+ \"{:.2%}\".format(precision))\n",
        "print(\"F1-Score: \"+ \"{:.2%}\".format(f1s))\n",
        "print(\"MCC: \"+ \"{:.2%}\".format(MCC))\n",
        "# print(\"ROC AUC score: \"+ \"{:.2%}\".format(ROC_AUC))\n",
        "print(\"time to train: \"+ \"{:.2f}\".format(end_train-start)+\" s\")\n",
        "print(\"time to predict: \"+\"{:.2f}\".format(end_predict-end_train)+\" s\")\n",
        "print(\"total: \"+\"{:.2f}\".format(end_predict-start)+\" s\")\n",
        "model_performance.loc['Random Forest'] = [accuracy, recall, precision, f1s,MCC,end_train-start,end_predict-end_train,end_predict-start]"
      ],
      "metadata": {
        "id": "2ETYu1JsVBr9"
      },
      "execution_count": null,
      "outputs": []
    },
    {
      "cell_type": "code",
      "source": [
        "# Calcula a matriz de confusão\n",
        "cm = confusion_matrix(y_test, y_predictions)\n",
        "\n",
        "# Define as classes (rótulos)\n",
        "classes = ['Norm', '1','2','3','4']\n",
        "\n",
        "# Plota a matriz de confusão\n",
        "plt.imshow(cm, interpolation='nearest', cmap=plt.cm.Blues)\n",
        "plt.title('Matriz de Confusão')\n",
        "plt.colorbar()\n",
        "ticks = np.arange(len(classes))\n",
        "plt.xticks(ticks, classes, rotation=45)\n",
        "plt.yticks(ticks, classes)\n",
        "\n",
        "# Adiciona os valores nas células da matriz\n",
        "thresh = cm.max() / 2.\n",
        "for i in range(cm.shape[0]):\n",
        "    for j in range(cm.shape[1]):\n",
        "        plt.text(j, i, format(cm[i, j], 'd'),\n",
        "                 horizontalalignment=\"center\",\n",
        "                 color=\"white\" if cm[i, j] > thresh else \"black\")\n",
        "\n",
        "plt.tight_layout()\n",
        "plt.ylabel('Rótulo Verdadeiro')\n",
        "plt.xlabel('Rótulo Previsto')\n",
        "plt.show()"
      ],
      "metadata": {
        "id": "3EQ5jj8N7DBf"
      },
      "execution_count": null,
      "outputs": []
    },
    {
      "cell_type": "code",
      "source": [
        "plt.rcParams['figure.figsize']=10,10\n",
        "sns.set_style(\"white\")\n",
        "feat_importances = pd.Series(model.feature_importances_, index=feature_names)\n",
        "feat_importances = feat_importances.groupby(level=0).mean()\n",
        "feat_importances.nlargest(20).plot(kind='barh').invert_yaxis()\n",
        "sns.despine()\n",
        "plt.show()"
      ],
      "metadata": {
        "id": "LWCuRfrPX-zO"
      },
      "execution_count": null,
      "outputs": []
    },
    {
      "cell_type": "code",
      "source": [
        "from sklearn.metrics import classification_report\n",
        "\n",
        "print(classification_report(y_test, y_predictions))"
      ],
      "metadata": {
        "id": "uexErmtY7Kdc"
      },
      "execution_count": null,
      "outputs": []
    },
    {
      "cell_type": "markdown",
      "source": [
        "## XGBoost"
      ],
      "metadata": {
        "id": "9yBcejphZdag"
      }
    },
    {
      "cell_type": "markdown",
      "source": [
        "Seleção de Hiperparâmetros"
      ],
      "metadata": {
        "id": "3cVvxi20d69W"
      }
    },
    {
      "cell_type": "code",
      "source": [
        "from sklearn.model_selection import GridSearchCV\n",
        "import xgboost as xgb\n",
        "\n",
        "# Defina os parâmetros que deseja testar\n",
        "param_grid = {\n",
        "    'learning_rate': [0.1, 0.01, 0.001],\n",
        "    'max_depth': [3, 5, 7],\n",
        "    'n_estimators': [100, 200, 300]\n",
        "}\n",
        "\n",
        "# Crie uma instância do modelo XGBClassifier\n",
        "xgb_model = xgb.XGBClassifier()\n",
        "\n",
        "# Crie uma instância do GridSearchCV\n",
        "grid_search = GridSearchCV(xgb_model, param_grid)\n",
        "\n",
        "# Ajuste o modelo usando o conjunto de treinamento\n",
        "grid_search.fit(X_train, y_train)\n",
        "\n",
        "# Obtenha os melhores parâmetros encontrados\n",
        "best_params = grid_search.best_params_\n",
        "print(\"Melhores parâmetros encontrados:\", best_params)"
      ],
      "metadata": {
        "id": "_sjUX9DQd7Jm"
      },
      "execution_count": null,
      "outputs": []
    },
    {
      "cell_type": "markdown",
      "source": [
        "Análise do desempenho do modelo"
      ],
      "metadata": {
        "id": "YnJzaevLeJ8C"
      }
    },
    {
      "cell_type": "code",
      "source": [
        "import xgboost as xgb\n",
        "\n",
        "start = time.time()\n",
        "model = xgb.XGBClassifier(learning_rate = 0.1, max_depth = 5, n_estimators = 300).fit(X_train, y_train)\n",
        "end_train = time.time()\n",
        "\n",
        "y_predictions = model.predict(X_test) # Estas são as previsões para os dados de teste.\n",
        "end_predict = time.time()"
      ],
      "metadata": {
        "id": "tNxniL_gwpjI"
      },
      "execution_count": null,
      "outputs": []
    },
    {
      "cell_type": "code",
      "source": [
        "accuracy = accuracy_score(y_test, y_predictions)\n",
        "recall = recall_score(y_test, y_predictions, average='weighted')\n",
        "precision = precision_score(y_test, y_predictions, average='weighted')\n",
        "f1s = f1_score(y_test, y_predictions, average='weighted')\n",
        "MCC = matthews_corrcoef(y_test, y_predictions)\n",
        "# ROC_AUC = roc_auc_score(y_test, y_predictions, average='weighted')\n",
        "# ROC_AUC = roc_auc_score(y_test, model.predict_proba(X_test)[:,1], average='weighted')\n",
        "\n",
        "print(\"Accuracy: \"+ \"{:.2%}\".format(accuracy))\n",
        "print(\"Recall: \"+ \"{:.2%}\".format(recall))\n",
        "print(\"Precision: \"+ \"{:.2%}\".format(precision))\n",
        "print(\"F1-Score: \"+ \"{:.2%}\".format(f1s))\n",
        "print(\"MCC: \"+ \"{:.2%}\".format(MCC))\n",
        "# print(\"ROC AUC score: \"+ \"{:.2%}\".format(ROC_AUC))\n",
        "print(\"time to train: \"+ \"{:.2f}\".format(end_train-start)+\" s\")\n",
        "print(\"time to predict: \"+\"{:.2f}\".format(end_predict-end_train)+\" s\")\n",
        "print(\"total: \"+\"{:.2f}\".format(end_predict-start)+\" s\")\n",
        "model_performance.loc['XGBoost'] = [accuracy, recall, precision, f1s,MCC,end_train-start,end_predict-end_train,end_predict-start]"
      ],
      "metadata": {
        "colab": {
          "base_uri": "https://localhost:8080/"
        },
        "id": "gz6d8SslwvQI",
        "outputId": "e36d55b3-a6de-4a91-91fb-5c832474b2c0"
      },
      "execution_count": null,
      "outputs": [
        {
          "output_type": "stream",
          "name": "stdout",
          "text": [
            "Accuracy: 98.45%\n",
            "Recall: 98.45%\n",
            "Precision: 99.21%\n",
            "F1-Score: 98.78%\n",
            "MCC: 79.88%\n",
            "time to train: 99.15 s\n",
            "time to predict: 0.04 s\n",
            "total: 99.18 s\n"
          ]
        }
      ]
    },
    {
      "cell_type": "code",
      "source": [
        "# Calcula a matriz de confusão\n",
        "cm = confusion_matrix(y_test, y_predictions)\n",
        "\n",
        "# Define as classes (rótulos)\n",
        "classes = ['Norm', '1','2','3','4']\n",
        "\n",
        "# Plota a matriz de confusão\n",
        "plt.imshow(cm, interpolation='nearest', cmap=plt.cm.Blues)\n",
        "plt.title('Matriz de Confusão')\n",
        "plt.colorbar()\n",
        "ticks = np.arange(len(classes))\n",
        "plt.xticks(ticks, classes, rotation=45)\n",
        "plt.yticks(ticks, classes)\n",
        "\n",
        "# Adiciona os valores nas células da matriz\n",
        "thresh = cm.max() / 2.\n",
        "for i in range(cm.shape[0]):\n",
        "    for j in range(cm.shape[1]):\n",
        "        plt.text(j, i, format(cm[i, j], 'd'),\n",
        "                 horizontalalignment=\"center\",\n",
        "                 color=\"white\" if cm[i, j] > thresh else \"black\")\n",
        "\n",
        "plt.tight_layout()\n",
        "plt.ylabel('Rótulo Verdadeiro')\n",
        "plt.xlabel('Rótulo Previsto')\n",
        "plt.show()"
      ],
      "metadata": {
        "colab": {
          "base_uri": "https://localhost:8080/",
          "height": 995
        },
        "id": "gXKtf90d5h31",
        "outputId": "c3c07809-e63e-4dd5-a3d0-767b58d4f136"
      },
      "execution_count": null,
      "outputs": [
        {
          "output_type": "display_data",
          "data": {
            "text/plain": [
              "<Figure size 1000x1000 with 2 Axes>"
            ],
            "image/png": "[encoded data removed]"
          },
          "metadata": {}
        }
      ]
    },
    {
      "cell_type": "code",
      "source": [
        "plt.rcParams['figure.figsize']=10,10\n",
        "sns.set_style(\"white\")\n",
        "feat_importances = pd.Series(model.feature_importances_, index=feature_names)\n",
        "feat_importances = feat_importances.groupby(level=0).mean()\n",
        "feat_importances.nlargest(20).plot(kind='barh').invert_yaxis()\n",
        "sns.despine()\n",
        "plt.show()"
      ],
      "metadata": {
        "colab": {
          "base_uri": "https://localhost:8080/",
          "height": 835
        },
        "id": "zUmAzYxCx3Nn",
        "outputId": "1bfd4d78-db0b-4877-b299-bb92eae70030"
      },
      "execution_count": null,
      "outputs": [
        {
          "output_type": "display_data",
          "data": {
            "text/plain": [
              "<Figure size 1000x1000 with 1 Axes>"
            ],
            "image/png": "[encoded data removed]"
          },
          "metadata": {}
        }
      ]
    },
    {
      "cell_type": "code",
      "source": [
        "from sklearn.metrics import classification_report\n",
        "\n",
        "print(classification_report(y_test, y_predictions))"
      ],
      "metadata": {
        "id": "adl37AA-8Aus",
        "colab": {
          "base_uri": "https://localhost:8080/"
        },
        "outputId": "458af0ea-3be5-4ea3-d17b-7ff0a16ff4d5"
      },
      "execution_count": null,
      "outputs": [
        {
          "output_type": "stream",
          "name": "stdout",
          "text": [
            "              precision    recall  f1-score   support\n",
            "\n",
            "           0       1.00      0.99      0.99      1931\n",
            "           1       0.16      0.50      0.24         8\n",
            "           2       1.00      0.95      0.98        21\n",
            "           3       1.00      0.94      0.97        17\n",
            "           4       0.80      1.00      0.89        20\n",
            "\n",
            "    accuracy                           0.98      1997\n",
            "   macro avg       0.79      0.88      0.81      1997\n",
            "weighted avg       0.99      0.98      0.99      1997\n",
            "\n"
          ]
        }
      ]
    },
    {
      "cell_type": "markdown",
      "source": [
        "# Validação"
      ],
      "metadata": {
        "id": "QlsVCokJYKoP"
      }
    },
    {
      "cell_type": "code",
      "source": [
        "model_performance.fillna(.90,inplace=True)\n",
        "model_performance.style.background_gradient(cmap='coolwarm').format({'Accuracy': '{:.2%}',\n",
        "                                                                     'Precision': '{:.2%}',\n",
        "                                                                     'Recall': '{:.2%}',\n",
        "                                                                     'F1-Score': '{:.2%}',\n",
        "                                                                     'MCC score': '{:.2%}',\n",
        "                                                                     'time to train':'{:.1f}',\n",
        "                                                                     'time to predict':'{:.1f}',\n",
        "                                                                     'total time':'{:.1f}',\n",
        "                                                                     })"
      ],
      "metadata": {
        "colab": {
          "base_uri": "https://localhost:8080/",
          "height": 175
        },
        "id": "9tZ93o10Xw4A",
        "outputId": "eeafcba4-fcef-463c-aa38-aae46c894e32"
      },
      "execution_count": null,
      "outputs": [
        {
          "output_type": "execute_result",
          "data": {
            "text/plain": [
              "<pandas.io.formats.style.Styler at 0x7f0883db1d50>"
            ],
            "text/html": [
              "<style type=\"text/css\">\n",
              "#T_4c05b_row0_col0, #T_4c05b_row0_col1, #T_4c05b_row0_col2, #T_4c05b_row0_col3, #T_4c05b_row0_col4, #T_4c05b_row0_col5, #T_4c05b_row0_col7, #T_4c05b_row1_col6 {\n",
              "  background-color: #3b4cc0;\n",
              "  color: #f1f1f1;\n",
              "}\n",
              "#T_4c05b_row0_col6 {\n",
              "  background-color: #c43032;\n",
              "  color: #f1f1f1;\n",
              "}\n",
              "#T_4c05b_row1_col0, #T_4c05b_row1_col1 {\n",
              "  background-color: #f08b6e;\n",
              "  color: #f1f1f1;\n",
              "}\n",
              "#T_4c05b_row1_col2 {\n",
              "  background-color: #ebd3c6;\n",
              "  color: #000000;\n",
              "}\n",
              "#T_4c05b_row1_col3 {\n",
              "  background-color: #f49a7b;\n",
              "  color: #000000;\n",
              "}\n",
              "#T_4c05b_row1_col4 {\n",
              "  background-color: #efcebd;\n",
              "  color: #000000;\n",
              "}\n",
              "#T_4c05b_row1_col5 {\n",
              "  background-color: #3d50c3;\n",
              "  color: #f1f1f1;\n",
              "}\n",
              "#T_4c05b_row1_col7 {\n",
              "  background-color: #3c4ec2;\n",
              "  color: #f1f1f1;\n",
              "}\n",
              "#T_4c05b_row2_col0, #T_4c05b_row2_col1 {\n",
              "  background-color: #ed8366;\n",
              "  color: #f1f1f1;\n",
              "}\n",
              "#T_4c05b_row2_col2 {\n",
              "  background-color: #f7af91;\n",
              "  color: #000000;\n",
              "}\n",
              "#T_4c05b_row2_col3 {\n",
              "  background-color: #f18d6f;\n",
              "  color: #f1f1f1;\n",
              "}\n",
              "#T_4c05b_row2_col4 {\n",
              "  background-color: #f6a283;\n",
              "  color: #000000;\n",
              "}\n",
              "#T_4c05b_row2_col5, #T_4c05b_row2_col7 {\n",
              "  background-color: #5a78e4;\n",
              "  color: #f1f1f1;\n",
              "}\n",
              "#T_4c05b_row2_col6, #T_4c05b_row3_col0, #T_4c05b_row3_col1, #T_4c05b_row3_col2, #T_4c05b_row3_col3, #T_4c05b_row3_col4, #T_4c05b_row3_col5, #T_4c05b_row3_col7 {\n",
              "  background-color: #b40426;\n",
              "  color: #f1f1f1;\n",
              "}\n",
              "#T_4c05b_row3_col6 {\n",
              "  background-color: #96b7ff;\n",
              "  color: #000000;\n",
              "}\n",
              "</style>\n",
              "<table id=\"T_4c05b\" class=\"dataframe\">\n",
              "  <thead>\n",
              "    <tr>\n",
              "      <th class=\"blank level0\" >&nbsp;</th>\n",
              "      <th id=\"T_4c05b_level0_col0\" class=\"col_heading level0 col0\" >Accuracy</th>\n",
              "      <th id=\"T_4c05b_level0_col1\" class=\"col_heading level0 col1\" >Recall</th>\n",
              "      <th id=\"T_4c05b_level0_col2\" class=\"col_heading level0 col2\" >Precision</th>\n",
              "      <th id=\"T_4c05b_level0_col3\" class=\"col_heading level0 col3\" >F1-Score</th>\n",
              "      <th id=\"T_4c05b_level0_col4\" class=\"col_heading level0 col4\" >MCC score</th>\n",
              "      <th id=\"T_4c05b_level0_col5\" class=\"col_heading level0 col5\" >time to train</th>\n",
              "      <th id=\"T_4c05b_level0_col6\" class=\"col_heading level0 col6\" >time to predict</th>\n",
              "      <th id=\"T_4c05b_level0_col7\" class=\"col_heading level0 col7\" >total time</th>\n",
              "    </tr>\n",
              "  </thead>\n",
              "  <tbody>\n",
              "    <tr>\n",
              "      <th id=\"T_4c05b_level0_row0\" class=\"row_heading level0 row0\" >KNN</th>\n",
              "      <td id=\"T_4c05b_row0_col0\" class=\"data row0 col0\" >94.09%</td>\n",
              "      <td id=\"T_4c05b_row0_col1\" class=\"data row0 col1\" >94.09%</td>\n",
              "      <td id=\"T_4c05b_row0_col2\" class=\"data row0 col2\" >97.67%</td>\n",
              "      <td id=\"T_4c05b_row0_col3\" class=\"data row0 col3\" >95.54%</td>\n",
              "      <td id=\"T_4c05b_row0_col4\" class=\"data row0 col4\" >53.49%</td>\n",
              "      <td id=\"T_4c05b_row0_col5\" class=\"data row0 col5\" >0.1</td>\n",
              "      <td id=\"T_4c05b_row0_col6\" class=\"data row0 col6\" >0.1</td>\n",
              "      <td id=\"T_4c05b_row0_col7\" class=\"data row0 col7\" >0.2</td>\n",
              "    </tr>\n",
              "    <tr>\n",
              "      <th id=\"T_4c05b_level0_row1\" class=\"row_heading level0 row1\" >Decision Tree</th>\n",
              "      <td id=\"T_4c05b_row1_col0\" class=\"data row1 col0\" >97.50%</td>\n",
              "      <td id=\"T_4c05b_row1_col1\" class=\"data row1 col1\" >97.50%</td>\n",
              "      <td id=\"T_4c05b_row1_col2\" class=\"data row1 col2\" >98.54%</td>\n",
              "      <td id=\"T_4c05b_row1_col3\" class=\"data row1 col3\" >97.96%</td>\n",
              "      <td id=\"T_4c05b_row1_col4\" class=\"data row1 col4\" >68.87%</td>\n",
              "      <td id=\"T_4c05b_row1_col5\" class=\"data row1 col5\" >0.9</td>\n",
              "      <td id=\"T_4c05b_row1_col6\" class=\"data row1 col6\" >0.0</td>\n",
              "      <td id=\"T_4c05b_row1_col7\" class=\"data row1 col7\" >0.9</td>\n",
              "    </tr>\n",
              "    <tr>\n",
              "      <th id=\"T_4c05b_level0_row2\" class=\"row_heading level0 row2\" >Random Forest</th>\n",
              "      <td id=\"T_4c05b_row2_col0\" class=\"data row2 col0\" >97.60%</td>\n",
              "      <td id=\"T_4c05b_row2_col1\" class=\"data row2 col1\" >97.60%</td>\n",
              "      <td id=\"T_4c05b_row2_col2\" class=\"data row2 col2\" >98.74%</td>\n",
              "      <td id=\"T_4c05b_row2_col3\" class=\"data row2 col3\" >98.07%</td>\n",
              "      <td id=\"T_4c05b_row2_col4\" class=\"data row2 col4\" >72.75%</td>\n",
              "      <td id=\"T_4c05b_row2_col5\" class=\"data row2 col5\" >10.5</td>\n",
              "      <td id=\"T_4c05b_row2_col6\" class=\"data row2 col6\" >0.1</td>\n",
              "      <td id=\"T_4c05b_row2_col7\" class=\"data row2 col7\" >10.6</td>\n",
              "    </tr>\n",
              "    <tr>\n",
              "      <th id=\"T_4c05b_level0_row3\" class=\"row_heading level0 row3\" >XGBoost</th>\n",
              "      <td id=\"T_4c05b_row3_col0\" class=\"data row3 col0\" >98.45%</td>\n",
              "      <td id=\"T_4c05b_row3_col1\" class=\"data row3 col1\" >98.45%</td>\n",
              "      <td id=\"T_4c05b_row3_col2\" class=\"data row3 col2\" >99.21%</td>\n",
              "      <td id=\"T_4c05b_row3_col3\" class=\"data row3 col3\" >98.78%</td>\n",
              "      <td id=\"T_4c05b_row3_col4\" class=\"data row3 col4\" >79.88%</td>\n",
              "      <td id=\"T_4c05b_row3_col5\" class=\"data row3 col5\" >99.1</td>\n",
              "      <td id=\"T_4c05b_row3_col6\" class=\"data row3 col6\" >0.0</td>\n",
              "      <td id=\"T_4c05b_row3_col7\" class=\"data row3 col7\" >99.2</td>\n",
              "    </tr>\n",
              "  </tbody>\n",
              "</table>\n"
            ]
          },
          "metadata": {},
          "execution_count": 44
        }
      ]
    },
    {
      "cell_type": "code",
      "source": [],
      "metadata": {
        "id": "ArQMmEdrX_8u"
      },
      "execution_count": null,
      "outputs": []
    }
  ]
}